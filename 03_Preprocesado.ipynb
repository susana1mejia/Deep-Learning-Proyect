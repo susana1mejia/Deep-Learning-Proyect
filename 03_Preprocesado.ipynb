{
  "nbformat": 4,
  "nbformat_minor": 0,
  "metadata": {
    "colab": {
      "provenance": [],
      "authorship_tag": "ABX9TyP7ozknEuNjBRihIzKAuNy7",
      "include_colab_link": true
    },
    "kernelspec": {
      "name": "python3",
      "display_name": "Python 3"
    },
    "language_info": {
      "name": "python"
    }
  },
  "cells": [
    {
      "cell_type": "markdown",
      "metadata": {
        "id": "view-in-github",
        "colab_type": "text"
      },
      "source": [
        "<a href=\"https://colab.research.google.com/github/susana1mejia/Deep-Learning-Proyect/blob/main/03_Preprocesado.ipynb\" target=\"_parent\"><img src=\"https://colab.research.google.com/assets/colab-badge.svg\" alt=\"Open In Colab\"/></a>"
      ]
    },
    {
      "cell_type": "markdown",
      "source": [
        "### Pre-procesado ###"
      ],
      "metadata": {
        "id": "llTB8AbWy6Hu"
      }
    },
    {
      "cell_type": "code",
      "source": [
        "from __future__ import division\n",
        "import pandas as pd\n",
        "import numpy as np\n",
        "from numpy.lib.stride_tricks import as_strided as ast\n",
        "from google.colab import files\n",
        "from sklearn import preprocessing\n",
        "import pickle"
      ],
      "metadata": {
        "id": "kfLFQp5ghnmL"
      },
      "execution_count": 1,
      "outputs": []
    },
    {
      "cell_type": "code",
      "execution_count": 2,
      "metadata": {
        "colab": {
          "base_uri": "https://localhost:8080/",
          "height": 488
        },
        "id": "R7b3-KRNeuSl",
        "outputId": "479b7822-ad51-4843-d9b3-63e03b1e8c97"
      },
      "outputs": [
        {
          "output_type": "execute_result",
          "data": {
            "text/plain": [
              "               AF3           F7           F3          FC5           T7  \\\n",
              "0      4329.252016  4009.179857  4289.183762  4148.152134  4350.206818   \n",
              "1      4329.276576  4009.545851  4289.846850  4149.876997  4348.948891   \n",
              "2      4329.159169  4009.806795  4290.179692  4151.312677  4347.709375   \n",
              "3      4328.778394  4009.867157  4289.906759  4152.195493  4346.505619   \n",
              "4      4328.044111  4009.656002  4288.829299  4152.322706  4345.356010   \n",
              "...            ...          ...          ...          ...          ...   \n",
              "14299  4283.390677  3993.751719  4250.790123  4117.606639  4333.696587   \n",
              "14300  4284.007103  3994.371283  4252.408610  4118.006068  4333.510705   \n",
              "14301  4285.086297  3995.376535  4254.677169  4118.893366  4333.397851   \n",
              "14302  4286.482753  3996.635858  4257.390748  4120.106515  4333.337273   \n",
              "14303  4288.015919  3997.989555  4260.299207  4121.448834  4333.302099   \n",
              "\n",
              "                P7           O1           O2           P8           T8  \\\n",
              "0      4586.192335  4096.912112  4641.068253  4222.047068  4238.504085   \n",
              "1      4585.743231  4095.969803  4636.083925  4218.658842  4237.629679   \n",
              "2      4585.291374  4095.038011  4631.297467  4215.329742  4236.671689   \n",
              "3      4584.844082  4094.130817  4626.895725  4212.129647  4235.577566   \n",
              "4      4584.412957  4093.264984  4623.032657  4209.126745  4234.316706   \n",
              "...            ...          ...          ...          ...          ...   \n",
              "14299  4615.322201  4079.298329  4631.301166  4205.344250  4223.287428   \n",
              "14300  4615.571216  4080.885936  4632.827209  4206.714920  4223.697055   \n",
              "14301  4615.896425  4083.063010  4634.645836  4208.418492  4224.384932   \n",
              "14302  4616.259804  4085.666276  4636.646824  4210.349296  4225.294850   \n",
              "14303  4616.621697  4088.488567  4638.707191  4212.380778  4226.342800   \n",
              "\n",
              "               FC6           F4           F8          AF4  eyeDetection  \n",
              "0      4211.262674  4280.509561  4635.972757  4393.821298           0.0  \n",
              "1      4211.043057  4280.843897  4635.782573  4393.707079           0.0  \n",
              "2      4210.680948  4280.980911  4635.374559  4393.398360           0.0  \n",
              "3      4210.075214  4280.766903  4634.586658  4392.737855           0.0  \n",
              "4      4209.161587  4280.097206  4633.308796  4391.620422           0.0  \n",
              "...            ...          ...          ...          ...           ...  \n",
              "14299  4172.161819  4270.605627  4597.698679  4343.395492           1.0  \n",
              "14300  4170.925006  4270.959829  4597.405059  4344.680772           1.0  \n",
              "14301  4169.693744  4271.711624  4597.311131  4346.507739           1.0  \n",
              "14302  4168.502346  4272.774026  4597.394210  4348.706258           1.0  \n",
              "14303  4167.370125  4274.020969  4597.603963  4351.067536           1.0  \n",
              "\n",
              "[14304 rows x 15 columns]"
            ],
            "text/html": [
              "\n",
              "  <div id=\"df-baa8baa8-4fdb-45aa-a857-521f855c504a\">\n",
              "    <div class=\"colab-df-container\">\n",
              "      <div>\n",
              "<style scoped>\n",
              "    .dataframe tbody tr th:only-of-type {\n",
              "        vertical-align: middle;\n",
              "    }\n",
              "\n",
              "    .dataframe tbody tr th {\n",
              "        vertical-align: top;\n",
              "    }\n",
              "\n",
              "    .dataframe thead th {\n",
              "        text-align: right;\n",
              "    }\n",
              "</style>\n",
              "<table border=\"1\" class=\"dataframe\">\n",
              "  <thead>\n",
              "    <tr style=\"text-align: right;\">\n",
              "      <th></th>\n",
              "      <th>AF3</th>\n",
              "      <th>F7</th>\n",
              "      <th>F3</th>\n",
              "      <th>FC5</th>\n",
              "      <th>T7</th>\n",
              "      <th>P7</th>\n",
              "      <th>O1</th>\n",
              "      <th>O2</th>\n",
              "      <th>P8</th>\n",
              "      <th>T8</th>\n",
              "      <th>FC6</th>\n",
              "      <th>F4</th>\n",
              "      <th>F8</th>\n",
              "      <th>AF4</th>\n",
              "      <th>eyeDetection</th>\n",
              "    </tr>\n",
              "  </thead>\n",
              "  <tbody>\n",
              "    <tr>\n",
              "      <th>0</th>\n",
              "      <td>4329.252016</td>\n",
              "      <td>4009.179857</td>\n",
              "      <td>4289.183762</td>\n",
              "      <td>4148.152134</td>\n",
              "      <td>4350.206818</td>\n",
              "      <td>4586.192335</td>\n",
              "      <td>4096.912112</td>\n",
              "      <td>4641.068253</td>\n",
              "      <td>4222.047068</td>\n",
              "      <td>4238.504085</td>\n",
              "      <td>4211.262674</td>\n",
              "      <td>4280.509561</td>\n",
              "      <td>4635.972757</td>\n",
              "      <td>4393.821298</td>\n",
              "      <td>0.0</td>\n",
              "    </tr>\n",
              "    <tr>\n",
              "      <th>1</th>\n",
              "      <td>4329.276576</td>\n",
              "      <td>4009.545851</td>\n",
              "      <td>4289.846850</td>\n",
              "      <td>4149.876997</td>\n",
              "      <td>4348.948891</td>\n",
              "      <td>4585.743231</td>\n",
              "      <td>4095.969803</td>\n",
              "      <td>4636.083925</td>\n",
              "      <td>4218.658842</td>\n",
              "      <td>4237.629679</td>\n",
              "      <td>4211.043057</td>\n",
              "      <td>4280.843897</td>\n",
              "      <td>4635.782573</td>\n",
              "      <td>4393.707079</td>\n",
              "      <td>0.0</td>\n",
              "    </tr>\n",
              "    <tr>\n",
              "      <th>2</th>\n",
              "      <td>4329.159169</td>\n",
              "      <td>4009.806795</td>\n",
              "      <td>4290.179692</td>\n",
              "      <td>4151.312677</td>\n",
              "      <td>4347.709375</td>\n",
              "      <td>4585.291374</td>\n",
              "      <td>4095.038011</td>\n",
              "      <td>4631.297467</td>\n",
              "      <td>4215.329742</td>\n",
              "      <td>4236.671689</td>\n",
              "      <td>4210.680948</td>\n",
              "      <td>4280.980911</td>\n",
              "      <td>4635.374559</td>\n",
              "      <td>4393.398360</td>\n",
              "      <td>0.0</td>\n",
              "    </tr>\n",
              "    <tr>\n",
              "      <th>3</th>\n",
              "      <td>4328.778394</td>\n",
              "      <td>4009.867157</td>\n",
              "      <td>4289.906759</td>\n",
              "      <td>4152.195493</td>\n",
              "      <td>4346.505619</td>\n",
              "      <td>4584.844082</td>\n",
              "      <td>4094.130817</td>\n",
              "      <td>4626.895725</td>\n",
              "      <td>4212.129647</td>\n",
              "      <td>4235.577566</td>\n",
              "      <td>4210.075214</td>\n",
              "      <td>4280.766903</td>\n",
              "      <td>4634.586658</td>\n",
              "      <td>4392.737855</td>\n",
              "      <td>0.0</td>\n",
              "    </tr>\n",
              "    <tr>\n",
              "      <th>4</th>\n",
              "      <td>4328.044111</td>\n",
              "      <td>4009.656002</td>\n",
              "      <td>4288.829299</td>\n",
              "      <td>4152.322706</td>\n",
              "      <td>4345.356010</td>\n",
              "      <td>4584.412957</td>\n",
              "      <td>4093.264984</td>\n",
              "      <td>4623.032657</td>\n",
              "      <td>4209.126745</td>\n",
              "      <td>4234.316706</td>\n",
              "      <td>4209.161587</td>\n",
              "      <td>4280.097206</td>\n",
              "      <td>4633.308796</td>\n",
              "      <td>4391.620422</td>\n",
              "      <td>0.0</td>\n",
              "    </tr>\n",
              "    <tr>\n",
              "      <th>...</th>\n",
              "      <td>...</td>\n",
              "      <td>...</td>\n",
              "      <td>...</td>\n",
              "      <td>...</td>\n",
              "      <td>...</td>\n",
              "      <td>...</td>\n",
              "      <td>...</td>\n",
              "      <td>...</td>\n",
              "      <td>...</td>\n",
              "      <td>...</td>\n",
              "      <td>...</td>\n",
              "      <td>...</td>\n",
              "      <td>...</td>\n",
              "      <td>...</td>\n",
              "      <td>...</td>\n",
              "    </tr>\n",
              "    <tr>\n",
              "      <th>14299</th>\n",
              "      <td>4283.390677</td>\n",
              "      <td>3993.751719</td>\n",
              "      <td>4250.790123</td>\n",
              "      <td>4117.606639</td>\n",
              "      <td>4333.696587</td>\n",
              "      <td>4615.322201</td>\n",
              "      <td>4079.298329</td>\n",
              "      <td>4631.301166</td>\n",
              "      <td>4205.344250</td>\n",
              "      <td>4223.287428</td>\n",
              "      <td>4172.161819</td>\n",
              "      <td>4270.605627</td>\n",
              "      <td>4597.698679</td>\n",
              "      <td>4343.395492</td>\n",
              "      <td>1.0</td>\n",
              "    </tr>\n",
              "    <tr>\n",
              "      <th>14300</th>\n",
              "      <td>4284.007103</td>\n",
              "      <td>3994.371283</td>\n",
              "      <td>4252.408610</td>\n",
              "      <td>4118.006068</td>\n",
              "      <td>4333.510705</td>\n",
              "      <td>4615.571216</td>\n",
              "      <td>4080.885936</td>\n",
              "      <td>4632.827209</td>\n",
              "      <td>4206.714920</td>\n",
              "      <td>4223.697055</td>\n",
              "      <td>4170.925006</td>\n",
              "      <td>4270.959829</td>\n",
              "      <td>4597.405059</td>\n",
              "      <td>4344.680772</td>\n",
              "      <td>1.0</td>\n",
              "    </tr>\n",
              "    <tr>\n",
              "      <th>14301</th>\n",
              "      <td>4285.086297</td>\n",
              "      <td>3995.376535</td>\n",
              "      <td>4254.677169</td>\n",
              "      <td>4118.893366</td>\n",
              "      <td>4333.397851</td>\n",
              "      <td>4615.896425</td>\n",
              "      <td>4083.063010</td>\n",
              "      <td>4634.645836</td>\n",
              "      <td>4208.418492</td>\n",
              "      <td>4224.384932</td>\n",
              "      <td>4169.693744</td>\n",
              "      <td>4271.711624</td>\n",
              "      <td>4597.311131</td>\n",
              "      <td>4346.507739</td>\n",
              "      <td>1.0</td>\n",
              "    </tr>\n",
              "    <tr>\n",
              "      <th>14302</th>\n",
              "      <td>4286.482753</td>\n",
              "      <td>3996.635858</td>\n",
              "      <td>4257.390748</td>\n",
              "      <td>4120.106515</td>\n",
              "      <td>4333.337273</td>\n",
              "      <td>4616.259804</td>\n",
              "      <td>4085.666276</td>\n",
              "      <td>4636.646824</td>\n",
              "      <td>4210.349296</td>\n",
              "      <td>4225.294850</td>\n",
              "      <td>4168.502346</td>\n",
              "      <td>4272.774026</td>\n",
              "      <td>4597.394210</td>\n",
              "      <td>4348.706258</td>\n",
              "      <td>1.0</td>\n",
              "    </tr>\n",
              "    <tr>\n",
              "      <th>14303</th>\n",
              "      <td>4288.015919</td>\n",
              "      <td>3997.989555</td>\n",
              "      <td>4260.299207</td>\n",
              "      <td>4121.448834</td>\n",
              "      <td>4333.302099</td>\n",
              "      <td>4616.621697</td>\n",
              "      <td>4088.488567</td>\n",
              "      <td>4638.707191</td>\n",
              "      <td>4212.380778</td>\n",
              "      <td>4226.342800</td>\n",
              "      <td>4167.370125</td>\n",
              "      <td>4274.020969</td>\n",
              "      <td>4597.603963</td>\n",
              "      <td>4351.067536</td>\n",
              "      <td>1.0</td>\n",
              "    </tr>\n",
              "  </tbody>\n",
              "</table>\n",
              "<p>14304 rows × 15 columns</p>\n",
              "</div>\n",
              "      <button class=\"colab-df-convert\" onclick=\"convertToInteractive('df-baa8baa8-4fdb-45aa-a857-521f855c504a')\"\n",
              "              title=\"Convert this dataframe to an interactive table.\"\n",
              "              style=\"display:none;\">\n",
              "        \n",
              "  <svg xmlns=\"http://www.w3.org/2000/svg\" height=\"24px\"viewBox=\"0 0 24 24\"\n",
              "       width=\"24px\">\n",
              "    <path d=\"M0 0h24v24H0V0z\" fill=\"none\"/>\n",
              "    <path d=\"M18.56 5.44l.94 2.06.94-2.06 2.06-.94-2.06-.94-.94-2.06-.94 2.06-2.06.94zm-11 1L8.5 8.5l.94-2.06 2.06-.94-2.06-.94L8.5 2.5l-.94 2.06-2.06.94zm10 10l.94 2.06.94-2.06 2.06-.94-2.06-.94-.94-2.06-.94 2.06-2.06.94z\"/><path d=\"M17.41 7.96l-1.37-1.37c-.4-.4-.92-.59-1.43-.59-.52 0-1.04.2-1.43.59L10.3 9.45l-7.72 7.72c-.78.78-.78 2.05 0 2.83L4 21.41c.39.39.9.59 1.41.59.51 0 1.02-.2 1.41-.59l7.78-7.78 2.81-2.81c.8-.78.8-2.07 0-2.86zM5.41 20L4 18.59l7.72-7.72 1.47 1.35L5.41 20z\"/>\n",
              "  </svg>\n",
              "      </button>\n",
              "      \n",
              "  <style>\n",
              "    .colab-df-container {\n",
              "      display:flex;\n",
              "      flex-wrap:wrap;\n",
              "      gap: 12px;\n",
              "    }\n",
              "\n",
              "    .colab-df-convert {\n",
              "      background-color: #E8F0FE;\n",
              "      border: none;\n",
              "      border-radius: 50%;\n",
              "      cursor: pointer;\n",
              "      display: none;\n",
              "      fill: #1967D2;\n",
              "      height: 32px;\n",
              "      padding: 0 0 0 0;\n",
              "      width: 32px;\n",
              "    }\n",
              "\n",
              "    .colab-df-convert:hover {\n",
              "      background-color: #E2EBFA;\n",
              "      box-shadow: 0px 1px 2px rgba(60, 64, 67, 0.3), 0px 1px 3px 1px rgba(60, 64, 67, 0.15);\n",
              "      fill: #174EA6;\n",
              "    }\n",
              "\n",
              "    [theme=dark] .colab-df-convert {\n",
              "      background-color: #3B4455;\n",
              "      fill: #D2E3FC;\n",
              "    }\n",
              "\n",
              "    [theme=dark] .colab-df-convert:hover {\n",
              "      background-color: #434B5C;\n",
              "      box-shadow: 0px 1px 3px 1px rgba(0, 0, 0, 0.15);\n",
              "      filter: drop-shadow(0px 1px 2px rgba(0, 0, 0, 0.3));\n",
              "      fill: #FFFFFF;\n",
              "    }\n",
              "  </style>\n",
              "\n",
              "      <script>\n",
              "        const buttonEl =\n",
              "          document.querySelector('#df-baa8baa8-4fdb-45aa-a857-521f855c504a button.colab-df-convert');\n",
              "        buttonEl.style.display =\n",
              "          google.colab.kernel.accessAllowed ? 'block' : 'none';\n",
              "\n",
              "        async function convertToInteractive(key) {\n",
              "          const element = document.querySelector('#df-baa8baa8-4fdb-45aa-a857-521f855c504a');\n",
              "          const dataTable =\n",
              "            await google.colab.kernel.invokeFunction('convertToInteractive',\n",
              "                                                     [key], {});\n",
              "          if (!dataTable) return;\n",
              "\n",
              "          const docLinkHtml = 'Like what you see? Visit the ' +\n",
              "            '<a target=\"_blank\" href=https://colab.research.google.com/notebooks/data_table.ipynb>data table notebook</a>'\n",
              "            + ' to learn more about interactive tables.';\n",
              "          element.innerHTML = '';\n",
              "          dataTable['output_type'] = 'display_data';\n",
              "          await google.colab.output.renderOutput(dataTable, element);\n",
              "          const docLink = document.createElement('div');\n",
              "          docLink.innerHTML = docLinkHtml;\n",
              "          element.appendChild(docLink);\n",
              "        }\n",
              "      </script>\n",
              "    </div>\n",
              "  </div>\n",
              "  "
            ]
          },
          "metadata": {},
          "execution_count": 2
        }
      ],
      "source": [
        "data = pd.read_csv('dataset.csv', delimiter = \",\")\n",
        "data"
      ]
    },
    {
      "cell_type": "code",
      "source": [
        "X = data.values[:,0:14].astype(np.float32)\n",
        "Y = data.values[:,14].astype(int)\n",
        "print(X.shape, Y.shape)"
      ],
      "metadata": {
        "colab": {
          "base_uri": "https://localhost:8080/"
        },
        "id": "ad36TMRTla7m",
        "outputId": "cbd40ad9-65c5-44a1-ebe4-56ab8a30403c"
      },
      "execution_count": 3,
      "outputs": [
        {
          "output_type": "stream",
          "name": "stdout",
          "text": [
            "(14304, 14) (14304,)\n"
          ]
        }
      ]
    },
    {
      "cell_type": "code",
      "source": [
        "X"
      ],
      "metadata": {
        "colab": {
          "base_uri": "https://localhost:8080/"
        },
        "id": "ILoXsMJrsY2c",
        "outputId": "a5a7f0b8-ad4a-44e4-de00-06caa778b6cb"
      },
      "execution_count": 4,
      "outputs": [
        {
          "output_type": "execute_result",
          "data": {
            "text/plain": [
              "array([[4329.252 , 4009.18  , 4289.1836, ..., 4280.51  , 4635.9727,\n",
              "        4393.8213],\n",
              "       [4329.2764, 4009.546 , 4289.8467, ..., 4280.8438, 4635.7827,\n",
              "        4393.707 ],\n",
              "       [4329.159 , 4009.807 , 4290.1797, ..., 4280.981 , 4635.3745,\n",
              "        4393.3984],\n",
              "       ...,\n",
              "       [4285.0864, 3995.3765, 4254.6772, ..., 4271.7114, 4597.311 ,\n",
              "        4346.508 ],\n",
              "       [4286.483 , 3996.6357, 4257.3906, ..., 4272.774 , 4597.394 ,\n",
              "        4348.706 ],\n",
              "       [4288.016 , 3997.9895, 4260.2993, ..., 4274.021 , 4597.604 ,\n",
              "        4351.0674]], dtype=float32)"
            ]
          },
          "metadata": {},
          "execution_count": 4
        }
      ]
    },
    {
      "cell_type": "code",
      "source": [
        "X.shape"
      ],
      "metadata": {
        "colab": {
          "base_uri": "https://localhost:8080/"
        },
        "id": "pilmvYrDgcMs",
        "outputId": "9c7e9f83-bc3b-4733-84f6-2bbbdb36a7da"
      },
      "execution_count": 5,
      "outputs": [
        {
          "output_type": "execute_result",
          "data": {
            "text/plain": [
              "(14304, 14)"
            ]
          },
          "metadata": {},
          "execution_count": 5
        }
      ]
    },
    {
      "cell_type": "markdown",
      "source": [
        "## Organización de los datos ##\n",
        "\n",
        "De acuerdo con el objetivo de modelado, se deben crear las estructuras necesarias para la predicción:\n",
        "\n",
        "**X debe tener 3 dimensiones**: una con el recorte de los datos, otra con las épocas creadas debido al overlapping y otra resultante de los 14 canales.\n",
        "\n",
        "**Y debe ser un vector** con la misma longitud de las épocas, que contiene el porcentaje de ojos cerrados."
      ],
      "metadata": {
        "id": "nHZXWvyw1u5w"
      }
    },
    {
      "cell_type": "markdown",
      "source": [
        "![estructuras.png](data:image/png;base64,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)"
      ],
      "metadata": {
        "id": "3vfw_8fK1vpy"
      }
    },
    {
      "cell_type": "code",
      "source": [
        "def chunk_data(data, window_size, overlap_size=0, flatten_inside_window=True):\n",
        "    # Pasar la copia!\n",
        "    # Adaptado de https://gist.github.com/mattjj/5213172\n",
        "    assert data.ndim == 1 or data.ndim == 2\n",
        "    if data.ndim == 1:\n",
        "        data = data.reshape((-1, 1))\n",
        "\n",
        "    # get the number of overlapping windows that fit into the data\n",
        "    num_windows = (data.shape[0] - window_size) // (window_size - overlap_size) + 1\n",
        "    overhang = data.shape[0] - (num_windows*window_size - (num_windows-1)*overlap_size)\n",
        "\n",
        "    # if there's overhang, need an extra window and a -1 pad on the data\n",
        "    if overhang != 0:\n",
        "        num_windows += 1\n",
        "        newdata = np.ones((num_windows*window_size - (num_windows-1)*overlap_size, data.shape[1]))*-1\n",
        "        newdata[:data.shape[0]] = data\n",
        "        data = newdata\n",
        "\n",
        "    sz = data.dtype.itemsize\n",
        "    ret = ast(\n",
        "            data,\n",
        "            shape=(num_windows, window_size*data.shape[1]),\n",
        "            strides=((window_size-overlap_size)*data.shape[1]*sz, sz)\n",
        "            )\n",
        "\n",
        "    if flatten_inside_window:\n",
        "        return ret\n",
        "    else:\n",
        "        return ret.reshape((num_windows, -1, data.shape[1]))\n",
        "\n",
        "\n",
        "def calculate_closed_percent(target, epoc_len, overlap):\n",
        "    y_procesada = chunk_data(np.copy(target), epoc_len, overlap)\n",
        "    y_salida = []\n",
        "    for epoc in y_procesada:\n",
        "        y_salida.append(np.count_nonzero(epoc == 1)/epoc_len)\n",
        "    return np.array(y_salida)\n",
        "\n",
        "\n",
        "def reshaping(data, epoc_len, overlap):\n",
        "    data = data.T\n",
        "    # dimensiones: num canales - num epocas - tamaño de las epocas\n",
        "    new_array = []\n",
        "    for canal in data:\n",
        "        chanel_in_epochs = chunk_data(np.copy(canal), epoc_len, overlap)\n",
        "\n",
        "        new_array.append(chanel_in_epochs)\n",
        "\n",
        "    new_array = np.array(new_array)\n",
        "    new_array = np.transpose(new_array,(1, 0, 2))\n",
        "    return new_array"
      ],
      "metadata": {
        "id": "Ltw4IsPNg5gY"
      },
      "execution_count": 6,
      "outputs": []
    },
    {
      "cell_type": "code",
      "source": [
        "structure_data_3D = reshaping(X, 298, 0)"
      ],
      "metadata": {
        "id": "j6g9_9q6-0LG"
      },
      "execution_count": 7,
      "outputs": []
    },
    {
      "cell_type": "code",
      "source": [
        "structure_data_3D = reshaping(X, 200, 100)\n",
        "  \n",
        "print(structure_data_3D.shape)\n",
        "structure_data_3D[-1]"
      ],
      "metadata": {
        "colab": {
          "base_uri": "https://localhost:8080/"
        },
        "id": "5Ifjrc84wMYK",
        "outputId": "49a87722-e70f-4fc3-8478-167398ad1d19"
      },
      "execution_count": 8,
      "outputs": [
        {
          "output_type": "stream",
          "name": "stdout",
          "text": [
            "(143, 14, 200)\n"
          ]
        },
        {
          "output_type": "execute_result",
          "data": {
            "text/plain": [
              "array([[ 4.28883154e+03,  4.28890527e+03,  4.28899463e+03, ...,\n",
              "        -1.00000000e+00, -1.00000000e+00, -1.00000000e+00],\n",
              "       [ 4.02423218e+03,  4.02383447e+03,  4.02364526e+03, ...,\n",
              "        -1.00000000e+00, -1.00000000e+00, -1.00000000e+00],\n",
              "       [ 4.26521484e+03,  4.26483643e+03,  4.26399561e+03, ...,\n",
              "        -1.00000000e+00, -1.00000000e+00, -1.00000000e+00],\n",
              "       ...,\n",
              "       [ 4.28179688e+03,  4.28163086e+03,  4.28093311e+03, ...,\n",
              "        -1.00000000e+00, -1.00000000e+00, -1.00000000e+00],\n",
              "       [ 4.60142334e+03,  4.60167871e+03,  4.60204688e+03, ...,\n",
              "        -1.00000000e+00, -1.00000000e+00, -1.00000000e+00],\n",
              "       [ 4.35006055e+03,  4.34983398e+03,  4.34957422e+03, ...,\n",
              "        -1.00000000e+00, -1.00000000e+00, -1.00000000e+00]])"
            ]
          },
          "metadata": {},
          "execution_count": 8
        }
      ]
    },
    {
      "cell_type": "markdown",
      "source": [
        "Los datos de cada uno de los canales se encuentran en el orden de los 4000 uV, por lo que se normalizan para evitar una saturación de las neuronas."
      ],
      "metadata": {
        "id": "FTzWE1N8-qca"
      }
    },
    {
      "cell_type": "code",
      "source": [
        "structure_data_3D = structure_data_3D / structure_data_3D.max()\n",
        "structure_data_3D"
      ],
      "metadata": {
        "colab": {
          "base_uri": "https://localhost:8080/"
        },
        "id": "If_uoUugvoDi",
        "outputId": "58627531-0403-496e-ded6-a09f36c14d08"
      },
      "execution_count": 9,
      "outputs": [
        {
          "output_type": "execute_result",
          "data": {
            "text/plain": [
              "array([[[ 9.18648169e-01,  9.18653350e-01,  9.18628483e-01, ...,\n",
              "          9.08616851e-01,  9.08441437e-01,  9.08285606e-01],\n",
              "        [ 8.50730298e-01,  8.50807954e-01,  8.50863335e-01, ...,\n",
              "          8.36046788e-01,  8.35731810e-01,  8.35477859e-01],\n",
              "        [ 9.10145840e-01,  9.10286544e-01,  9.10357207e-01, ...,\n",
              "          9.01025263e-01,  9.01037697e-01,  9.01061423e-01],\n",
              "        ...,\n",
              "        [ 9.08305292e-01,  9.08376162e-01,  9.08405277e-01, ...,\n",
              "          9.12586400e-01,  9.12548582e-01,  9.12529518e-01],\n",
              "        [ 9.83732949e-01,  9.83692645e-01,  9.83606026e-01, ...,\n",
              "          9.87555786e-01,  9.87358199e-01,  9.87158955e-01],\n",
              "        [ 9.32349497e-01,  9.32325252e-01,  9.32259770e-01, ...,\n",
              "          9.26124437e-01,  9.25961353e-01,  9.25802932e-01]],\n",
              "\n",
              "       [[ 9.14373796e-01,  9.14559570e-01,  9.14674786e-01, ...,\n",
              "          9.19510006e-01,  9.19156382e-01,  9.18921392e-01],\n",
              "        [ 8.50527738e-01,  8.50410709e-01,  8.50267467e-01, ...,\n",
              "          8.46280718e-01,  8.46011951e-01,  8.45833377e-01],\n",
              "        [ 9.08021812e-01,  9.08102421e-01,  9.07996738e-01, ...,\n",
              "          9.05358073e-01,  9.05197580e-01,  9.05087337e-01],\n",
              "        ...,\n",
              "        [ 9.09812108e-01,  9.10006897e-01,  9.10091340e-01, ...,\n",
              "          9.13140823e-01,  9.13036176e-01,  9.12947588e-01],\n",
              "        [ 9.80915452e-01,  9.81197585e-01,  9.81426566e-01, ...,\n",
              "          9.80810805e-01,  9.80628656e-01,  9.80527739e-01],\n",
              "        [ 9.26259028e-01,  9.26572866e-01,  9.26803608e-01, ...,\n",
              "          9.31453054e-01,  9.31198792e-01,  9.31014882e-01]],\n",
              "\n",
              "       [[ 9.08151947e-01,  9.08041602e-01,  9.07956744e-01, ...,\n",
              "          9.10608153e-01,  9.10769993e-01,  9.10938154e-01],\n",
              "        [ 8.35305191e-01,  8.35223028e-01,  8.35231161e-01, ...,\n",
              "          8.47276214e-01,  8.47518249e-01,  8.47752307e-01],\n",
              "        [ 9.01095408e-01,  9.01136956e-01,  9.01183995e-01, ...,\n",
              "          9.03411220e-01,  9.03400548e-01,  9.03425829e-01],\n",
              "        ...,\n",
              "        [ 9.12530968e-01,  9.12552519e-01,  9.12592720e-01, ...,\n",
              "          9.09089317e-01,  9.09082583e-01,  9.09134181e-01],\n",
              "        [ 9.86957224e-01,  9.86751142e-01,  9.86539050e-01, ...,\n",
              "          9.78856077e-01,  9.79032734e-01,  9.79227005e-01],\n",
              "        [ 9.25650416e-01,  9.25506190e-01,  9.25374707e-01, ...,\n",
              "          9.23460077e-01,  9.23553741e-01,  9.23692995e-01]],\n",
              "\n",
              "       ...,\n",
              "\n",
              "       [[ 9.06353776e-01,  9.06171421e-01,  9.06009373e-01, ...,\n",
              "          9.10116414e-01,  9.10080150e-01,  9.10066577e-01],\n",
              "        [ 8.54707048e-01,  8.54666018e-01,  8.54595615e-01, ...,\n",
              "          8.54465479e-01,  8.54240021e-01,  8.54057717e-01],\n",
              "        [ 8.99562792e-01,  8.99463947e-01,  8.99472443e-01, ...,\n",
              "          9.04921456e-01,  9.05002998e-01,  9.05059052e-01],\n",
              "        ...,\n",
              "        [ 9.01891038e-01,  9.01689411e-01,  9.01593156e-01, ...,\n",
              "          9.08192770e-01,  9.08377509e-01,  9.08515519e-01],\n",
              "        [ 9.70569363e-01,  9.70465855e-01,  9.70279770e-01, ...,\n",
              "          9.76426293e-01,  9.76387128e-01,  9.76378113e-01],\n",
              "        [ 9.16801922e-01,  9.16572424e-01,  9.16371315e-01, ...,\n",
              "          9.23237417e-01,  9.23168101e-01,  9.23112047e-01]],\n",
              "\n",
              "       [[ 9.09992288e-01,  9.10120041e-01,  9.10233495e-01, ...,\n",
              "          9.09018033e-01,  9.08904164e-01,  9.08916597e-01],\n",
              "        [ 8.53557742e-01,  8.53606336e-01,  8.53671818e-01, ...,\n",
              "          8.47506748e-01,  8.47426243e-01,  8.47456497e-01],\n",
              "        [ 9.03336827e-01,  9.03373402e-01,  9.03375578e-01, ...,\n",
              "          9.01826592e-01,  9.01822758e-01,  9.01998897e-01],\n",
              "        ...,\n",
              "        [ 9.06580063e-01,  9.06551363e-01,  9.06514684e-01, ...,\n",
              "          9.06326319e-01,  9.06220740e-01,  9.06203644e-01],\n",
              "        [ 9.76103337e-01,  9.76199799e-01,  9.76355423e-01, ...,\n",
              "          9.75849490e-01,  9.75714277e-01,  9.75611391e-01],\n",
              "        [ 9.20997448e-01,  9.21043555e-01,  9.21117429e-01, ...,\n",
              "          9.21531356e-01,  9.21515711e-01,  9.21649369e-01]],\n",
              "\n",
              "       [[ 9.10071136e-01,  9.10086782e-01,  9.10105742e-01, ...,\n",
              "         -2.12195589e-04, -2.12195589e-04, -2.12195589e-04],\n",
              "        [ 8.53924318e-01,  8.53839927e-01,  8.53799778e-01, ...,\n",
              "         -2.12195589e-04, -2.12195589e-04, -2.12195589e-04],\n",
              "        [ 9.05059777e-01,  9.04979478e-01,  9.04801060e-01, ...,\n",
              "         -2.12195589e-04, -2.12195589e-04, -2.12195589e-04],\n",
              "        ...,\n",
              "        [ 9.08578411e-01,  9.08543183e-01,  9.08395123e-01, ...,\n",
              "         -2.12195589e-04, -2.12195589e-04, -2.12195589e-04],\n",
              "        [ 9.76401737e-01,  9.76455925e-01,  9.76534048e-01, ...,\n",
              "         -2.12195589e-04, -2.12195589e-04, -2.12195589e-04],\n",
              "        [ 9.23063661e-01,  9.23015585e-01,  9.22960464e-01, ...,\n",
              "         -2.12195589e-04, -2.12195589e-04, -2.12195589e-04]]])"
            ]
          },
          "metadata": {},
          "execution_count": 9
        }
      ]
    },
    {
      "cell_type": "code",
      "source": [
        "structure_data_target = calculate_closed_percent(Y, 200, 100)\n",
        "structure_data_target.shape"
      ],
      "metadata": {
        "colab": {
          "base_uri": "https://localhost:8080/"
        },
        "id": "CfUZLBhRvXar",
        "outputId": "3039ba7c-26a7-48c9-ceb6-d6e134b8d82d"
      },
      "execution_count": 10,
      "outputs": [
        {
          "output_type": "execute_result",
          "data": {
            "text/plain": [
              "(143,)"
            ]
          },
          "metadata": {},
          "execution_count": 10
        }
      ]
    },
    {
      "cell_type": "code",
      "source": [
        "with open('structure_data_3D.s', 'wb') as file:\n",
        "  pickle.dump(structure_data_3D, file)\n",
        "\n",
        "with open('structure_data_target.s', 'wb') as file:\n",
        "  pickle.dump(structure_data_target, file)"
      ],
      "metadata": {
        "id": "rPgeQxdxRvPM"
      },
      "execution_count": 11,
      "outputs": []
    },
    {
      "cell_type": "markdown",
      "source": [
        "## Feature engineering ##\n",
        "\n"
      ],
      "metadata": {
        "id": "dPTThs83cc3o"
      }
    },
    {
      "cell_type": "code",
      "source": [
        "mean_structure = np.mean(structure_data_3D, axis = 1)\n",
        "std_structure = np.std(structure_data_3D, axis = 1)\n",
        "max_structure = np.max(structure_data_3D, axis = 1)\n",
        "min_structure = np.min(structure_data_3D, axis = 1)\n",
        "\n",
        "feature_structure = np.array([mean_structure, std_structure, max_structure, min_structure])\n",
        "feature_structure = np.transpose(feature_structure,(1, 0, 2))\n",
        "print(feature_structure.shape)"
      ],
      "metadata": {
        "colab": {
          "base_uri": "https://localhost:8080/"
        },
        "id": "vmQCRmzhCilz",
        "outputId": "1ab93de3-ac8e-4cd1-cc84-4d34abc3f219"
      },
      "execution_count": 11,
      "outputs": [
        {
          "output_type": "stream",
          "name": "stdout",
          "text": [
            "(143, 4, 200)\n"
          ]
        }
      ]
    },
    {
      "cell_type": "code",
      "source": [
        "with open('feature_structure.s', 'wb') as file:\n",
        "  pickle.dump(feature_structure, file)"
      ],
      "metadata": {
        "id": "4V4gvovJUaSZ"
      },
      "execution_count": 12,
      "outputs": []
    }
  ]
}