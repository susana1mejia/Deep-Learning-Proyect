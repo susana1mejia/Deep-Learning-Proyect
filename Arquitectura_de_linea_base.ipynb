{
  "nbformat": 4,
  "nbformat_minor": 0,
  "metadata": {
    "colab": {
      "provenance": [],
      "authorship_tag": "ABX9TyND86wHLlQWDE+5dH33PZNu",
      "include_colab_link": true
    },
    "kernelspec": {
      "name": "python3",
      "display_name": "Python 3"
    },
    "language_info": {
      "name": "python"
    }
  },
  "cells": [
    {
      "cell_type": "markdown",
      "metadata": {
        "id": "view-in-github",
        "colab_type": "text"
      },
      "source": [
        "<a href=\"https://colab.research.google.com/github/susana1mejia/Deep-Learning-Proyect/blob/main/Arquitectura_de_linea_base.ipynb\" target=\"_parent\"><img src=\"https://colab.research.google.com/assets/colab-badge.svg\" alt=\"Open In Colab\"/></a>"
      ]
    },
    {
      "cell_type": "markdown",
      "source": [
        "### Arquitectura red neuronal ###"
      ],
      "metadata": {
        "id": "iJRxyhukEVH2"
      }
    },
    {
      "cell_type": "code",
      "source": [
        "import pickle\n",
        "from sklearn.model_selection import train_test_split\n",
        "import tensorflow as tf\n",
        "from tensorflow.keras.models import Sequential, Model\n",
        "from tensorflow.keras.layers import Dense, Dropout, SimpleRNN, RepeatVector, TimeDistributed, LSTM, GRU, LeakyReLU\n",
        "from tensorflow.keras.callbacks import Callback\n",
        "from tensorflow import keras\n",
        "import pandas as pd\n",
        "import numpy as np\n",
        "import matplotlib.pyplot as plt"
      ],
      "metadata": {
        "id": "yU9QFi00Tr_F"
      },
      "execution_count": 2,
      "outputs": []
    },
    {
      "cell_type": "code",
      "execution_count": 3,
      "metadata": {
        "id": "w-HklGpyQhgn"
      },
      "outputs": [],
      "source": [
        "with open('structure_data_target.s','rb') as file:\n",
        "  structure_data_target = pickle.load(file)\n",
        "\n",
        "with open('structure_data_3D.s','rb') as file:\n",
        "  structure_data_3D = pickle.load(file)"
      ]
    },
    {
      "cell_type": "code",
      "source": [
        "X_train, X_test, Y_train, Y_test = train_test_split(structure_data_3D, structure_data_target, test_size=.15)"
      ],
      "metadata": {
        "id": "ud7NXeC4TvbJ"
      },
      "execution_count": 4,
      "outputs": []
    },
    {
      "cell_type": "code",
      "source": [
        "print(X_train.shape, X_test.shape, Y_test.shape, Y_train.shape)"
      ],
      "metadata": {
        "colab": {
          "base_uri": "https://localhost:8080/"
        },
        "id": "74ZzKVS9deSD",
        "outputId": "2e0a4899-c8d0-4346-ba23-b0525edee131"
      },
      "execution_count": 5,
      "outputs": [
        {
          "output_type": "stream",
          "name": "stdout",
          "text": [
            "(121, 14, 200) (22, 14, 200) (22,) (121,)\n"
          ]
        }
      ]
    },
    {
      "cell_type": "code",
      "source": [
        "X_train.astype(np.float32)\n",
        "Y_train.astype(np.float32)\n",
        "X_test.astype(np.float32)\n",
        "Y_test.astype(np.float32)"
      ],
      "metadata": {
        "colab": {
          "base_uri": "https://localhost:8080/"
        },
        "id": "PpT2-godtWkU",
        "outputId": "6f23220f-1e54-49a8-f0c7-1c7b3ff312b8"
      },
      "execution_count": 6,
      "outputs": [
        {
          "output_type": "execute_result",
          "data": {
            "text/plain": [
              "array([1.   , 0.   , 1.   , 1.   , 1.   , 1.   , 0.215, 1.   , 0.   ,\n",
              "       0.   , 0.115, 0.615, 1.   , 0.19 , 1.   , 0.   , 0.   , 0.   ,\n",
              "       0.   , 1.   , 0.295, 1.   ], dtype=float32)"
            ]
          },
          "metadata": {},
          "execution_count": 6
        }
      ]
    },
    {
      "cell_type": "markdown",
      "source": [
        "Creación de arquitectura para un modelo secuencial"
      ],
      "metadata": {
        "id": "_daRrKJTEaip"
      }
    },
    {
      "cell_type": "code",
      "source": [
        "def get_model(X_train, layer_type):\n",
        "\n",
        "  model = Sequential()\n",
        "  init1k = keras.initializers.RandomNormal(mean=.5, stddev=0.5, seed=1)\n",
        "\n",
        "  if layer_type=='SimpleRNN':\n",
        "    model.add(SimpleRNN(350, activation = 'relu', return_sequences=True, bias_initializer=init1k, input_shape = (X_train.shape[1],X_train.shape[2]), name = 'RNN_1'))\n",
        "    model.add(SimpleRNN(350, activation = 'relu', name = 'RNN_2'))\n",
        "    model.add(RepeatVector(250, name = 'Repeat_Vector_1'))\n",
        "    model.add(SimpleRNN(250, activation = 'relu', return_sequences=True, name = 'RNN_3'))\n",
        "    model.add(SimpleRNN(100, activation = 'relu',return_sequences=True, name = 'RNN_4'))\n",
        "    model.add(Dense(60, activation = 'relu', name = 'Dense_3'))\n",
        "    model.add(Dense(40, activation = 'relu', name = 'Dense_1'))\n",
        "    model.add(Dense(1, activation = 'sigmoid', name = 'Dense_2'))\n",
        "\n",
        "  if layer_type == 'LSTM':\n",
        "    model.add(LSTM(200,activation = 'relu', return_sequences=True,input_shape=(X_train.shape[1],X_train.shape[2])))\n",
        "    model.add(LSTM(100, activation = 'relu'))\n",
        "    model.add(RepeatVector(100))\n",
        "    model.add(LSTM(10,return_sequences=True, activation = 'relu'))\n",
        "    model.add((Dense(1, activation = 'sigmoid')))\n",
        "\n",
        "  if layer_type == 'GRU':\n",
        "    model.add(GRU(200,activation = 'relu',return_sequences=True, input_shape=((X_train.shape[1],X_train.shape[2]))))\n",
        "    model.add(GRU(50,activation = 'relu'))\n",
        "    model.add(RepeatVector(50))\n",
        "    model.add(GRU(150, return_sequences = True, activation = 'relu'))\n",
        "    model.add(GRU(100, activation = 'relu'))\n",
        "    model.add((Dense(1,activation = 'sigmoid')))\n",
        "  return model\n",
        "\n"
      ],
      "metadata": {
        "id": "3qq_97bnenmd"
      },
      "execution_count": 7,
      "outputs": []
    },
    {
      "cell_type": "code",
      "source": [
        "model = get_model(X_train,'SimpleRNN')\n",
        "model.summary()"
      ],
      "metadata": {
        "colab": {
          "base_uri": "https://localhost:8080/"
        },
        "id": "wZTPOv7kWH-x",
        "outputId": "ae272221-45a4-411c-aa89-a3a63069175f"
      },
      "execution_count": 276,
      "outputs": [
        {
          "output_type": "stream",
          "name": "stdout",
          "text": [
            "Model: \"sequential_32\"\n",
            "_________________________________________________________________\n",
            " Layer (type)                Output Shape              Param #   \n",
            "=================================================================\n",
            " RNN_1 (SimpleRNN)           (None, 14, 350)           192850    \n",
            "                                                                 \n",
            " RNN_2 (SimpleRNN)           (None, 350)               245350    \n",
            "                                                                 \n",
            " Repeat_Vector_1 (RepeatVect  (None, 250, 350)         0         \n",
            " or)                                                             \n",
            "                                                                 \n",
            " RNN_3 (SimpleRNN)           (None, 250, 250)          150250    \n",
            "                                                                 \n",
            " RNN_4 (SimpleRNN)           (None, 250, 100)          35100     \n",
            "                                                                 \n",
            " Dense_3 (Dense)             (None, 250, 60)           6060      \n",
            "                                                                 \n",
            " Dense_1 (Dense)             (None, 250, 40)           2440      \n",
            "                                                                 \n",
            " Dense_2 (Dense)             (None, 250, 1)            41        \n",
            "                                                                 \n",
            "=================================================================\n",
            "Total params: 632,091\n",
            "Trainable params: 632,091\n",
            "Non-trainable params: 0\n",
            "_________________________________________________________________\n"
          ]
        }
      ]
    },
    {
      "cell_type": "markdown",
      "source": [
        "Funciones de callback para revisar el comportamiento de los pesos y las activaciones"
      ],
      "metadata": {
        "id": "Yc-Xs-JIFbEy"
      }
    },
    {
      "cell_type": "code",
      "source": [
        "def LayerWeightsCallback(layer_name):\n",
        "    class LayerWeightsCallback_class(Callback):\n",
        "\n",
        "        def __init__(self, layer_name):\n",
        "            super().__init__()\n",
        "            self.mean_per_epoch = []\n",
        "            self.std_per_epoch = []\n",
        "            self.max_per_epoch = []\n",
        "            self.layer_name = layer_name\n",
        "\n",
        "        def on_epoch_end(self, epoch, logs=None):\n",
        "          if self.layer_name != 'Repeat_Vector_1':\n",
        "            w = self.model.get_layer(self.layer_name).get_weights()[0] \n",
        "            self.mean_per_epoch.append(np.mean(w)) \n",
        "            self.std_per_epoch.append(np.std(w)) \n",
        "            self.max_per_epoch.append(np.max(w))\n",
        "    \n",
        "    return LayerWeightsCallback_class(layer_name)"
      ],
      "metadata": {
        "id": "p-MqxkAZRIpK"
      },
      "execution_count": 243,
      "outputs": []
    },
    {
      "cell_type": "code",
      "source": [
        "def TrainValActivationsCallback(layer_name, X):\n",
        "    class TrainValActivationsCallback_class(Callback):\n",
        "\n",
        "        def __init__(self, layer_name, X):\n",
        "            super().__init__()\n",
        "            self.mean_per_epoch = []\n",
        "            self.std_per_epoch = []\n",
        "            self.layer_name = layer_name\n",
        "            self.X = X\n",
        "\n",
        "        def on_epoch_end(self, epoch, logs=None):\n",
        "\n",
        "            layer = self.model.get_layer(self.layer_name) # find layer\n",
        "            model = Model([self.model.input], [layer.output])\n",
        "            a = model(self.X)                               # feed self.X into self.model and get the activations at layer_name\n",
        "            self.mean_per_epoch.append(np.mean(a))  # append to self.mean_per_epoch the activations mean \n",
        "            self.std_per_epoch.append(np.std(a))   # append to self.std_per_epoch the activations std \n",
        "    \n",
        "    return TrainValActivationsCallback_class(layer_name, X)"
      ],
      "metadata": {
        "id": "fWY5CnHPF25E"
      },
      "execution_count": 251,
      "outputs": []
    },
    {
      "cell_type": "code",
      "source": [
        "def plot_epochs(cbset, title=\"\"):\n",
        "    cm = plt.cm.Greens\n",
        "    plt.figure(figsize=(15,4))\n",
        "    plt.subplot(131)\n",
        "    for i,cb in enumerate(cbset):\n",
        "        plt.plot(cb.mean_per_epoch, label=cb.layer_name, color=cm(int(255*(i+1)/(len(cbset)))))\n",
        "        plt.xlabel(\"epochs\"); plt.grid(); plt.title(title+\" mean\")\n",
        "    plt.subplot(132)\n",
        "    for i,cb in enumerate(cbset):\n",
        "        plt.plot(cb.std_per_epoch, label=cb.layer_name, color=cm(int(255*(i+1)/(len(cbset)))))\n",
        "        plt.xlabel(\"epochs\"); plt.grid(); plt.title(title+\" std\")\n",
        "    # plt.subplot(133)\n",
        "    # for i,cb in enumerate(cbset):\n",
        "    #     plt.plot(cb.max_per_epoch, label=cb.layer_name, color=cm(int(255*(i+1)/(len(cbset)))))\n",
        "    #     plt.xlabel(\"epochs\"); plt.grid(); plt.title(title+\" max value\")\n",
        "    plt.legend(loc='center left', bbox_to_anchor=(1, 0.5))"
      ],
      "metadata": {
        "id": "G9zHi7o8IC4I"
      },
      "execution_count": 259,
      "outputs": []
    },
    {
      "cell_type": "code",
      "source": [
        "model.compile(optimizer = 'adam',loss = 'mse', metrics = ['accuracy'])\n",
        "\n",
        "# model.get_layer('RNN_1').layer_type()\n",
        "\n",
        "cbs = [LayerWeightsCallback(i.name) for i in model.layers]\n",
        "model.fit(X_train, Y_train, epochs = 100, validation_data = (X_test, Y_test), callbacks = cbs)"
      ],
      "metadata": {
        "colab": {
          "base_uri": "https://localhost:8080/"
        },
        "id": "24gLP9B7xlfA",
        "outputId": "739e8340-662a-4c5f-d633-4c2f03a21a1a"
      },
      "execution_count": 277,
      "outputs": [
        {
          "output_type": "stream",
          "name": "stdout",
          "text": [
            "Epoch 1/100\n",
            "4/4 [==============================] - 7s 809ms/step - loss: 0.3381 - accuracy: 0.3229 - val_loss: 0.3721 - val_accuracy: 0.4091\n",
            "Epoch 2/100\n",
            "4/4 [==============================] - 4s 970ms/step - loss: 0.3123 - accuracy: 0.3636 - val_loss: 0.2572 - val_accuracy: 0.3644\n",
            "Epoch 3/100\n",
            "4/4 [==============================] - 2s 594ms/step - loss: 0.2205 - accuracy: 0.3311 - val_loss: 0.2115 - val_accuracy: 0.4091\n",
            "Epoch 4/100\n",
            "4/4 [==============================] - 2s 607ms/step - loss: 0.2109 - accuracy: 0.3143 - val_loss: 0.2145 - val_accuracy: 0.4091\n",
            "Epoch 5/100\n",
            "4/4 [==============================] - 2s 595ms/step - loss: 0.2159 - accuracy: 0.3636 - val_loss: 0.2138 - val_accuracy: 0.4091\n",
            "Epoch 6/100\n",
            "4/4 [==============================] - 3s 679ms/step - loss: 0.2048 - accuracy: 0.3636 - val_loss: 0.2134 - val_accuracy: 0.4091\n",
            "Epoch 7/100\n",
            "4/4 [==============================] - 4s 804ms/step - loss: 0.2012 - accuracy: 0.3641 - val_loss: 0.2118 - val_accuracy: 0.4091\n",
            "Epoch 8/100\n",
            "4/4 [==============================] - 2s 599ms/step - loss: 0.2019 - accuracy: 0.3481 - val_loss: 0.2117 - val_accuracy: 0.4091\n",
            "Epoch 9/100\n",
            "4/4 [==============================] - 2s 621ms/step - loss: 0.2076 - accuracy: 0.3636 - val_loss: 0.2113 - val_accuracy: 0.4091\n",
            "Epoch 10/100\n",
            "4/4 [==============================] - 2s 621ms/step - loss: 0.2044 - accuracy: 0.3636 - val_loss: 0.2113 - val_accuracy: 0.4091\n",
            "Epoch 11/100\n",
            "4/4 [==============================] - 3s 890ms/step - loss: 0.2041 - accuracy: 0.3310 - val_loss: 0.2126 - val_accuracy: 0.4089\n",
            "Epoch 12/100\n",
            "4/4 [==============================] - 3s 606ms/step - loss: 0.2007 - accuracy: 0.3636 - val_loss: 0.2124 - val_accuracy: 0.4091\n",
            "Epoch 13/100\n",
            "4/4 [==============================] - 2s 623ms/step - loss: 0.2031 - accuracy: 0.3636 - val_loss: 0.2113 - val_accuracy: 0.4091\n",
            "Epoch 14/100\n",
            "4/4 [==============================] - 2s 603ms/step - loss: 0.2006 - accuracy: 0.3391 - val_loss: 0.2142 - val_accuracy: 0.3640\n",
            "Epoch 15/100\n",
            "4/4 [==============================] - 2s 618ms/step - loss: 0.2033 - accuracy: 0.3878 - val_loss: 0.2119 - val_accuracy: 0.4091\n",
            "Epoch 16/100\n",
            "4/4 [==============================] - 4s 1s/step - loss: 0.2019 - accuracy: 0.3636 - val_loss: 0.2117 - val_accuracy: 0.4091\n",
            "Epoch 17/100\n",
            "4/4 [==============================] - 2s 621ms/step - loss: 0.2015 - accuracy: 0.3636 - val_loss: 0.2112 - val_accuracy: 0.4091\n",
            "Epoch 18/100\n",
            "4/4 [==============================] - 2s 632ms/step - loss: 0.2033 - accuracy: 0.3636 - val_loss: 0.2115 - val_accuracy: 0.4091\n",
            "Epoch 19/100\n",
            "4/4 [==============================] - 2s 621ms/step - loss: 0.2008 - accuracy: 0.3636 - val_loss: 0.2113 - val_accuracy: 0.4091\n",
            "Epoch 20/100\n",
            "4/4 [==============================] - 3s 697ms/step - loss: 0.2028 - accuracy: 0.3636 - val_loss: 0.2113 - val_accuracy: 0.4091\n",
            "Epoch 21/100\n",
            "4/4 [==============================] - 4s 813ms/step - loss: 0.2012 - accuracy: 0.3636 - val_loss: 0.2114 - val_accuracy: 0.4091\n",
            "Epoch 22/100\n",
            "4/4 [==============================] - 2s 620ms/step - loss: 0.2014 - accuracy: 0.3636 - val_loss: 0.2113 - val_accuracy: 0.4091\n",
            "Epoch 23/100\n",
            "4/4 [==============================] - 2s 601ms/step - loss: 0.2005 - accuracy: 0.3636 - val_loss: 0.2114 - val_accuracy: 0.4091\n",
            "Epoch 24/100\n",
            "4/4 [==============================] - 2s 610ms/step - loss: 0.2019 - accuracy: 0.3636 - val_loss: 0.2113 - val_accuracy: 0.4091\n",
            "Epoch 25/100\n",
            "4/4 [==============================] - 3s 896ms/step - loss: 0.2006 - accuracy: 0.3636 - val_loss: 0.2113 - val_accuracy: 0.4091\n",
            "Epoch 26/100\n",
            "4/4 [==============================] - 3s 594ms/step - loss: 0.2007 - accuracy: 0.3636 - val_loss: 0.2113 - val_accuracy: 0.4091\n",
            "Epoch 27/100\n",
            "4/4 [==============================] - 2s 614ms/step - loss: 0.2012 - accuracy: 0.3636 - val_loss: 0.2113 - val_accuracy: 0.4091\n",
            "Epoch 28/100\n",
            "4/4 [==============================] - 2s 616ms/step - loss: 0.2007 - accuracy: 0.3636 - val_loss: 0.2113 - val_accuracy: 0.4091\n",
            "Epoch 29/100\n",
            "4/4 [==============================] - 2s 614ms/step - loss: 0.2013 - accuracy: 0.3636 - val_loss: 0.2113 - val_accuracy: 0.4091\n",
            "Epoch 30/100\n",
            "4/4 [==============================] - 4s 1s/step - loss: 0.2007 - accuracy: 0.3636 - val_loss: 0.2114 - val_accuracy: 0.4091\n",
            "Epoch 31/100\n",
            "4/4 [==============================] - 2s 614ms/step - loss: 0.2011 - accuracy: 0.3636 - val_loss: 0.2113 - val_accuracy: 0.4091\n",
            "Epoch 32/100\n",
            "4/4 [==============================] - 2s 609ms/step - loss: 0.2014 - accuracy: 0.3636 - val_loss: 0.2115 - val_accuracy: 0.4091\n",
            "Epoch 33/100\n",
            "4/4 [==============================] - 2s 603ms/step - loss: 0.2012 - accuracy: 0.3636 - val_loss: 0.2113 - val_accuracy: 0.4091\n",
            "Epoch 34/100\n",
            "4/4 [==============================] - 2s 616ms/step - loss: 0.2005 - accuracy: 0.3636 - val_loss: 0.2113 - val_accuracy: 0.4091\n",
            "Epoch 35/100\n",
            "4/4 [==============================] - 4s 870ms/step - loss: 0.2005 - accuracy: 0.3636 - val_loss: 0.2113 - val_accuracy: 0.4091\n",
            "Epoch 36/100\n",
            "4/4 [==============================] - 2s 613ms/step - loss: 0.2021 - accuracy: 0.3636 - val_loss: 0.2113 - val_accuracy: 0.4091\n",
            "Epoch 37/100\n",
            "4/4 [==============================] - 2s 612ms/step - loss: 0.2000 - accuracy: 0.3636 - val_loss: 0.2116 - val_accuracy: 0.4091\n",
            "Epoch 38/100\n",
            "4/4 [==============================] - 2s 602ms/step - loss: 0.2017 - accuracy: 0.3636 - val_loss: 0.2119 - val_accuracy: 0.4091\n",
            "Epoch 39/100\n",
            "4/4 [==============================] - 3s 848ms/step - loss: 0.2011 - accuracy: 0.3636 - val_loss: 0.2113 - val_accuracy: 0.4091\n",
            "Epoch 40/100\n",
            "4/4 [==============================] - 3s 630ms/step - loss: 0.2036 - accuracy: 0.3634 - val_loss: 0.2114 - val_accuracy: 0.4091\n",
            "Epoch 41/100\n",
            "4/4 [==============================] - 2s 617ms/step - loss: 0.2028 - accuracy: 0.3636 - val_loss: 0.2117 - val_accuracy: 0.4091\n",
            "Epoch 42/100\n",
            "4/4 [==============================] - 2s 605ms/step - loss: 0.2023 - accuracy: 0.3636 - val_loss: 0.2114 - val_accuracy: 0.4091\n",
            "Epoch 43/100\n",
            "4/4 [==============================] - 2s 602ms/step - loss: 0.2008 - accuracy: 0.3636 - val_loss: 0.2114 - val_accuracy: 0.4091\n",
            "Epoch 44/100\n",
            "4/4 [==============================] - 4s 1s/step - loss: 0.2004 - accuracy: 0.3636 - val_loss: 0.2113 - val_accuracy: 0.4091\n",
            "Epoch 45/100\n",
            "4/4 [==============================] - 2s 622ms/step - loss: 0.2043 - accuracy: 0.3636 - val_loss: 0.2119 - val_accuracy: 0.4091\n",
            "Epoch 46/100\n",
            "4/4 [==============================] - 2s 592ms/step - loss: 0.2007 - accuracy: 0.3636 - val_loss: 0.2113 - val_accuracy: 0.4091\n",
            "Epoch 47/100\n",
            "4/4 [==============================] - 2s 602ms/step - loss: 0.2014 - accuracy: 0.3636 - val_loss: 0.2114 - val_accuracy: 0.4091\n",
            "Epoch 48/100\n",
            "4/4 [==============================] - 2s 603ms/step - loss: 0.2007 - accuracy: 0.3636 - val_loss: 0.2112 - val_accuracy: 0.4091\n",
            "Epoch 49/100\n",
            "4/4 [==============================] - 4s 934ms/step - loss: 0.2007 - accuracy: 0.3636 - val_loss: 0.2112 - val_accuracy: 0.4091\n",
            "Epoch 50/100\n",
            "4/4 [==============================] - 2s 603ms/step - loss: 0.2007 - accuracy: 0.3636 - val_loss: 0.2113 - val_accuracy: 0.4091\n",
            "Epoch 51/100\n",
            "4/4 [==============================] - 2s 613ms/step - loss: 0.2005 - accuracy: 0.3636 - val_loss: 0.2112 - val_accuracy: 0.4091\n",
            "Epoch 52/100\n",
            "4/4 [==============================] - 2s 597ms/step - loss: 0.2003 - accuracy: 0.3636 - val_loss: 0.2114 - val_accuracy: 0.4091\n",
            "Epoch 53/100\n",
            "4/4 [==============================] - 3s 732ms/step - loss: 0.2008 - accuracy: 0.3636 - val_loss: 0.2115 - val_accuracy: 0.4091\n",
            "Epoch 54/100\n",
            "4/4 [==============================] - 3s 741ms/step - loss: 0.2010 - accuracy: 0.3636 - val_loss: 0.2114 - val_accuracy: 0.4091\n",
            "Epoch 55/100\n",
            "4/4 [==============================] - 2s 620ms/step - loss: 0.2010 - accuracy: 0.3636 - val_loss: 0.2113 - val_accuracy: 0.4091\n",
            "Epoch 56/100\n",
            "4/4 [==============================] - 2s 619ms/step - loss: 0.2005 - accuracy: 0.3636 - val_loss: 0.2113 - val_accuracy: 0.4091\n",
            "Epoch 57/100\n",
            "4/4 [==============================] - 2s 607ms/step - loss: 0.2004 - accuracy: 0.3636 - val_loss: 0.2113 - val_accuracy: 0.4091\n",
            "Epoch 58/100\n",
            "4/4 [==============================] - 3s 929ms/step - loss: 0.2006 - accuracy: 0.3636 - val_loss: 0.2113 - val_accuracy: 0.4091\n",
            "Epoch 59/100\n",
            "4/4 [==============================] - 3s 627ms/step - loss: 0.2005 - accuracy: 0.3636 - val_loss: 0.2112 - val_accuracy: 0.4091\n",
            "Epoch 60/100\n",
            "4/4 [==============================] - 2s 597ms/step - loss: 0.2004 - accuracy: 0.3636 - val_loss: 0.2113 - val_accuracy: 0.4091\n",
            "Epoch 61/100\n",
            "4/4 [==============================] - 2s 614ms/step - loss: 0.2004 - accuracy: 0.3636 - val_loss: 0.2113 - val_accuracy: 0.4091\n",
            "Epoch 62/100\n",
            "4/4 [==============================] - 2s 601ms/step - loss: 0.2005 - accuracy: 0.3636 - val_loss: 0.2113 - val_accuracy: 0.4091\n",
            "Epoch 63/100\n",
            "4/4 [==============================] - 4s 1s/step - loss: 0.2007 - accuracy: 0.3636 - val_loss: 0.2113 - val_accuracy: 0.4091\n",
            "Epoch 64/100\n",
            "4/4 [==============================] - 2s 610ms/step - loss: 0.2005 - accuracy: 0.3636 - val_loss: 0.2113 - val_accuracy: 0.4091\n",
            "Epoch 65/100\n",
            "4/4 [==============================] - 2s 612ms/step - loss: 0.2003 - accuracy: 0.3636 - val_loss: 0.2112 - val_accuracy: 0.4091\n",
            "Epoch 66/100\n",
            "4/4 [==============================] - 2s 594ms/step - loss: 0.2005 - accuracy: 0.3636 - val_loss: 0.2114 - val_accuracy: 0.4091\n",
            "Epoch 67/100\n",
            "4/4 [==============================] - 2s 610ms/step - loss: 0.2011 - accuracy: 0.3636 - val_loss: 0.2114 - val_accuracy: 0.4091\n",
            "Epoch 68/100\n",
            "4/4 [==============================] - 4s 891ms/step - loss: 0.2004 - accuracy: 0.3636 - val_loss: 0.2113 - val_accuracy: 0.4091\n",
            "Epoch 69/100\n",
            "4/4 [==============================] - 2s 624ms/step - loss: 0.2006 - accuracy: 0.3636 - val_loss: 0.2112 - val_accuracy: 0.4091\n",
            "Epoch 70/100\n",
            "4/4 [==============================] - 2s 629ms/step - loss: 0.2013 - accuracy: 0.3636 - val_loss: 0.2115 - val_accuracy: 0.4091\n",
            "Epoch 71/100\n",
            "4/4 [==============================] - 2s 602ms/step - loss: 0.2011 - accuracy: 0.3636 - val_loss: 0.2116 - val_accuracy: 0.4091\n",
            "Epoch 72/100\n",
            "4/4 [==============================] - 3s 742ms/step - loss: 0.2007 - accuracy: 0.3636 - val_loss: 0.2113 - val_accuracy: 0.4091\n",
            "Epoch 73/100\n",
            "4/4 [==============================] - 3s 708ms/step - loss: 0.2004 - accuracy: 0.3636 - val_loss: 0.2113 - val_accuracy: 0.4091\n",
            "Epoch 74/100\n",
            "4/4 [==============================] - 2s 625ms/step - loss: 0.2004 - accuracy: 0.3636 - val_loss: 0.2112 - val_accuracy: 0.4091\n",
            "Epoch 75/100\n",
            "4/4 [==============================] - 2s 613ms/step - loss: 0.2009 - accuracy: 0.3636 - val_loss: 0.2113 - val_accuracy: 0.4091\n",
            "Epoch 76/100\n",
            "4/4 [==============================] - 2s 624ms/step - loss: 0.2004 - accuracy: 0.3636 - val_loss: 0.2112 - val_accuracy: 0.4091\n",
            "Epoch 77/100\n",
            "4/4 [==============================] - 4s 981ms/step - loss: 0.2008 - accuracy: 0.3636 - val_loss: 0.2112 - val_accuracy: 0.4091\n",
            "Epoch 78/100\n",
            "4/4 [==============================] - 3s 596ms/step - loss: 0.2007 - accuracy: 0.3636 - val_loss: 0.2113 - val_accuracy: 0.4091\n",
            "Epoch 79/100\n",
            "4/4 [==============================] - 2s 611ms/step - loss: 0.2006 - accuracy: 0.3636 - val_loss: 0.2113 - val_accuracy: 0.4091\n",
            "Epoch 80/100\n",
            "4/4 [==============================] - 2s 615ms/step - loss: 0.2006 - accuracy: 0.3636 - val_loss: 0.2113 - val_accuracy: 0.4091\n",
            "Epoch 81/100\n",
            "4/4 [==============================] - 2s 605ms/step - loss: 0.2005 - accuracy: 0.3636 - val_loss: 0.2112 - val_accuracy: 0.4091\n",
            "Epoch 82/100\n",
            "4/4 [==============================] - 4s 1s/step - loss: 0.2005 - accuracy: 0.3636 - val_loss: 0.2112 - val_accuracy: 0.4091\n",
            "Epoch 83/100\n",
            "4/4 [==============================] - 2s 600ms/step - loss: 0.2008 - accuracy: 0.3636 - val_loss: 0.2112 - val_accuracy: 0.4091\n",
            "Epoch 84/100\n",
            "4/4 [==============================] - 2s 603ms/step - loss: 0.2008 - accuracy: 0.3636 - val_loss: 0.2113 - val_accuracy: 0.4091\n",
            "Epoch 85/100\n",
            "4/4 [==============================] - 2s 609ms/step - loss: 0.2007 - accuracy: 0.3636 - val_loss: 0.2112 - val_accuracy: 0.4091\n",
            "Epoch 86/100\n",
            "4/4 [==============================] - 3s 672ms/step - loss: 0.2004 - accuracy: 0.3636 - val_loss: 0.2112 - val_accuracy: 0.4091\n",
            "Epoch 87/100\n",
            "4/4 [==============================] - 4s 796ms/step - loss: 0.2005 - accuracy: 0.3636 - val_loss: 0.2113 - val_accuracy: 0.4091\n",
            "Epoch 88/100\n",
            "4/4 [==============================] - 2s 605ms/step - loss: 0.2004 - accuracy: 0.3636 - val_loss: 0.2112 - val_accuracy: 0.4091\n",
            "Epoch 89/100\n",
            "4/4 [==============================] - 2s 604ms/step - loss: 0.2005 - accuracy: 0.3636 - val_loss: 0.2112 - val_accuracy: 0.4091\n",
            "Epoch 90/100\n",
            "4/4 [==============================] - 2s 609ms/step - loss: 0.2005 - accuracy: 0.3636 - val_loss: 0.2113 - val_accuracy: 0.4091\n",
            "Epoch 91/100\n",
            "4/4 [==============================] - 3s 898ms/step - loss: 0.2005 - accuracy: 0.3636 - val_loss: 0.2113 - val_accuracy: 0.4091\n",
            "Epoch 92/100\n",
            "4/4 [==============================] - 3s 619ms/step - loss: 0.2005 - accuracy: 0.3636 - val_loss: 0.2112 - val_accuracy: 0.4091\n",
            "Epoch 93/100\n",
            "4/4 [==============================] - 2s 619ms/step - loss: 0.2009 - accuracy: 0.3636 - val_loss: 0.2113 - val_accuracy: 0.4091\n",
            "Epoch 94/100\n",
            "4/4 [==============================] - 2s 610ms/step - loss: 0.2005 - accuracy: 0.3636 - val_loss: 0.2113 - val_accuracy: 0.4091\n",
            "Epoch 95/100\n",
            "4/4 [==============================] - 2s 607ms/step - loss: 0.2004 - accuracy: 0.3636 - val_loss: 0.2113 - val_accuracy: 0.4091\n",
            "Epoch 96/100\n",
            "4/4 [==============================] - 4s 1s/step - loss: 0.2005 - accuracy: 0.3636 - val_loss: 0.2112 - val_accuracy: 0.4091\n",
            "Epoch 97/100\n",
            "4/4 [==============================] - 2s 615ms/step - loss: 0.2004 - accuracy: 0.3636 - val_loss: 0.2112 - val_accuracy: 0.4091\n",
            "Epoch 98/100\n",
            "4/4 [==============================] - 2s 602ms/step - loss: 0.2006 - accuracy: 0.3636 - val_loss: 0.2113 - val_accuracy: 0.4091\n",
            "Epoch 99/100\n",
            "4/4 [==============================] - 2s 606ms/step - loss: 0.2005 - accuracy: 0.3636 - val_loss: 0.2113 - val_accuracy: 0.4091\n",
            "Epoch 100/100\n",
            "4/4 [==============================] - 2s 606ms/step - loss: 0.2005 - accuracy: 0.3636 - val_loss: 0.2112 - val_accuracy: 0.4091\n"
          ]
        },
        {
          "output_type": "execute_result",
          "data": {
            "text/plain": [
              "<keras.callbacks.History at 0x7fe3e0ab1060>"
            ]
          },
          "metadata": {},
          "execution_count": 277
        }
      ]
    },
    {
      "cell_type": "code",
      "source": [
        "plot_epochs(cbs, \"WEIGHTS\")"
      ],
      "metadata": {
        "colab": {
          "base_uri": "https://localhost:8080/",
          "height": 377
        },
        "id": "hYtLjuyVH4kd",
        "outputId": "85fccdf5-4b48-4d3e-ddeb-ea276137a3fb"
      },
      "execution_count": 278,
      "outputs": [
        {
          "output_type": "display_data",
          "data": {
            "text/plain": [
              "<Figure size 1500x400 with 2 Axes>"
            ],
            "image/png": "[encoded data removed]"
          },
          "metadata": {}
        }
      ]
    },
    {
      "cell_type": "code",
      "source": [
        "cbs_train = [TrainValActivationsCallback(i.name, X_train) for i in model.layers]\n",
        "cbs_test  = [TrainValActivationsCallback(i.name, X_test) for i in model.layers]\n",
        "\n",
        "model.fit(X_train, Y_train, epochs = 200, validation_data = (X_test, Y_test), callbacks = cbs_train+cbs_test, batch_size=10)"
      ],
      "metadata": {
        "colab": {
          "base_uri": "https://localhost:8080/"
        },
        "id": "YcYow9VoHnQ4",
        "outputId": "cd43c4cf-0443-42e8-dbf8-4151653f8939"
      },
      "execution_count": 255,
      "outputs": [
        {
          "output_type": "stream",
          "name": "stdout",
          "text": [
            "Epoch 1/200\n",
            "13/13 [==============================] - 18s 1s/step - loss: 0.2004 - accuracy: 0.3636 - val_loss: 0.2113 - val_accuracy: 0.4091\n",
            "Epoch 2/200\n",
            "13/13 [==============================] - 19s 2s/step - loss: 0.2004 - accuracy: 0.3636 - val_loss: 0.2113 - val_accuracy: 0.4091\n",
            "Epoch 3/200\n",
            "13/13 [==============================] - 16s 1s/step - loss: 0.2004 - accuracy: 0.3636 - val_loss: 0.2113 - val_accuracy: 0.4091\n",
            "Epoch 4/200\n",
            "13/13 [==============================] - 17s 1s/step - loss: 0.2004 - accuracy: 0.3636 - val_loss: 0.2113 - val_accuracy: 0.4091\n",
            "Epoch 5/200\n",
            "13/13 [==============================] - 16s 1s/step - loss: 0.2004 - accuracy: 0.3636 - val_loss: 0.2113 - val_accuracy: 0.4091\n",
            "Epoch 6/200\n",
            "13/13 [==============================] - 16s 1s/step - loss: 0.2004 - accuracy: 0.3636 - val_loss: 0.2113 - val_accuracy: 0.4091\n",
            "Epoch 7/200\n",
            "13/13 [==============================] - 16s 1s/step - loss: 0.2004 - accuracy: 0.3636 - val_loss: 0.2113 - val_accuracy: 0.4091\n",
            "Epoch 8/200\n",
            "13/13 [==============================] - 17s 1s/step - loss: 0.2005 - accuracy: 0.3636 - val_loss: 0.2113 - val_accuracy: 0.4091\n",
            "Epoch 9/200\n",
            "13/13 [==============================] - 16s 1s/step - loss: 0.2005 - accuracy: 0.3636 - val_loss: 0.2113 - val_accuracy: 0.4091\n",
            "Epoch 10/200\n",
            "13/13 [==============================] - 16s 1s/step - loss: 0.2004 - accuracy: 0.3636 - val_loss: 0.2113 - val_accuracy: 0.4091\n",
            "Epoch 11/200\n",
            "13/13 [==============================] - 17s 1s/step - loss: 0.2004 - accuracy: 0.3636 - val_loss: 0.2113 - val_accuracy: 0.4091\n",
            "Epoch 12/200\n",
            "13/13 [==============================] - 16s 1s/step - loss: 0.2004 - accuracy: 0.3636 - val_loss: 0.2113 - val_accuracy: 0.4091\n",
            "Epoch 13/200\n",
            "13/13 [==============================] - 16s 1s/step - loss: 0.2007 - accuracy: 0.3636 - val_loss: 0.2113 - val_accuracy: 0.4091\n",
            "Epoch 14/200\n",
            "13/13 [==============================] - 16s 1s/step - loss: 0.2005 - accuracy: 0.3636 - val_loss: 0.2113 - val_accuracy: 0.4091\n",
            "Epoch 15/200\n",
            "13/13 [==============================] - 16s 1s/step - loss: 0.2005 - accuracy: 0.3636 - val_loss: 0.2114 - val_accuracy: 0.4091\n",
            "Epoch 16/200\n",
            "13/13 [==============================] - 16s 1s/step - loss: 0.2006 - accuracy: 0.3636 - val_loss: 0.2114 - val_accuracy: 0.4091\n",
            "Epoch 17/200\n",
            "13/13 [==============================] - 16s 1s/step - loss: 0.2005 - accuracy: 0.3636 - val_loss: 0.2114 - val_accuracy: 0.4091\n",
            "Epoch 18/200\n",
            "13/13 [==============================] - 17s 1s/step - loss: 0.2005 - accuracy: 0.3636 - val_loss: 0.2113 - val_accuracy: 0.4091\n",
            "Epoch 19/200\n",
            "13/13 [==============================] - 16s 1s/step - loss: 0.2005 - accuracy: 0.3636 - val_loss: 0.2113 - val_accuracy: 0.4091\n",
            "Epoch 20/200\n",
            "13/13 [==============================] - 16s 1s/step - loss: 0.2004 - accuracy: 0.3636 - val_loss: 0.2113 - val_accuracy: 0.4091\n",
            "Epoch 21/200\n",
            "13/13 [==============================] - 16s 1s/step - loss: 0.2004 - accuracy: 0.3636 - val_loss: 0.2113 - val_accuracy: 0.4091\n",
            "Epoch 22/200\n",
            "13/13 [==============================] - 17s 1s/step - loss: 0.2004 - accuracy: 0.3636 - val_loss: 0.2113 - val_accuracy: 0.4091\n",
            "Epoch 23/200\n",
            "13/13 [==============================] - 16s 1s/step - loss: 0.2004 - accuracy: 0.3636 - val_loss: 0.2113 - val_accuracy: 0.4091\n",
            "Epoch 24/200\n",
            "13/13 [==============================] - 16s 1s/step - loss: 0.2004 - accuracy: 0.3636 - val_loss: 0.2113 - val_accuracy: 0.4091\n",
            "Epoch 25/200\n",
            "13/13 [==============================] - 16s 1s/step - loss: 0.2004 - accuracy: 0.3636 - val_loss: 0.2113 - val_accuracy: 0.4091\n",
            "Epoch 26/200\n",
            "13/13 [==============================] - 16s 1s/step - loss: 0.2027 - accuracy: 0.3636 - val_loss: 0.2113 - val_accuracy: 0.4091\n",
            "Epoch 27/200\n",
            "13/13 [==============================] - 16s 1s/step - loss: 0.2010 - accuracy: 0.3636 - val_loss: 0.2113 - val_accuracy: 0.4091\n",
            "Epoch 28/200\n",
            "13/13 [==============================] - 16s 1s/step - loss: 0.2009 - accuracy: 0.3636 - val_loss: 0.2112 - val_accuracy: 0.4091\n",
            "Epoch 29/200\n",
            "13/13 [==============================] - 17s 1s/step - loss: 0.2027 - accuracy: 0.3636 - val_loss: 0.2113 - val_accuracy: 0.4091\n",
            "Epoch 30/200\n",
            "13/13 [==============================] - 16s 1s/step - loss: 0.2004 - accuracy: 0.3636 - val_loss: 0.2112 - val_accuracy: 0.4091\n",
            "Epoch 31/200\n",
            "13/13 [==============================] - 16s 1s/step - loss: 0.2005 - accuracy: 0.3636 - val_loss: 0.2113 - val_accuracy: 0.4091\n",
            "Epoch 32/200\n",
            "13/13 [==============================] - 17s 1s/step - loss: 0.2004 - accuracy: 0.3636 - val_loss: 0.2113 - val_accuracy: 0.4091\n",
            "Epoch 33/200\n",
            "13/13 [==============================] - 16s 1s/step - loss: 0.2012 - accuracy: 0.3636 - val_loss: 0.2115 - val_accuracy: 0.4091\n",
            "Epoch 34/200\n",
            "13/13 [==============================] - 16s 1s/step - loss: 0.2019 - accuracy: 0.3636 - val_loss: 0.2118 - val_accuracy: 0.4091\n",
            "Epoch 35/200\n",
            "13/13 [==============================] - 16s 1s/step - loss: 0.2026 - accuracy: 0.3636 - val_loss: 0.2120 - val_accuracy: 0.4091\n",
            "Epoch 36/200\n",
            "13/13 [==============================] - 17s 1s/step - loss: 0.2008 - accuracy: 0.3636 - val_loss: 0.2115 - val_accuracy: 0.4091\n",
            "Epoch 37/200\n",
            "13/13 [==============================] - 16s 1s/step - loss: 0.2005 - accuracy: 0.3636 - val_loss: 0.2114 - val_accuracy: 0.4091\n",
            "Epoch 38/200\n",
            "13/13 [==============================] - 16s 1s/step - loss: 0.2005 - accuracy: 0.3636 - val_loss: 0.2114 - val_accuracy: 0.4091\n",
            "Epoch 39/200\n",
            "13/13 [==============================] - 17s 1s/step - loss: 0.2007 - accuracy: 0.3636 - val_loss: 0.2114 - val_accuracy: 0.4091\n",
            "Epoch 40/200\n",
            "13/13 [==============================] - 16s 1s/step - loss: 0.2006 - accuracy: 0.3636 - val_loss: 0.2114 - val_accuracy: 0.4091\n",
            "Epoch 41/200\n",
            "13/13 [==============================] - 16s 1s/step - loss: 0.2006 - accuracy: 0.3636 - val_loss: 0.2115 - val_accuracy: 0.4091\n",
            "Epoch 42/200\n",
            "13/13 [==============================] - 16s 1s/step - loss: 0.2010 - accuracy: 0.3636 - val_loss: 0.2116 - val_accuracy: 0.4091\n",
            "Epoch 43/200\n",
            "13/13 [==============================] - 17s 1s/step - loss: 0.2007 - accuracy: 0.3636 - val_loss: 0.2115 - val_accuracy: 0.4091\n",
            "Epoch 44/200\n",
            "13/13 [==============================] - 16s 1s/step - loss: 0.2007 - accuracy: 0.3636 - val_loss: 0.2114 - val_accuracy: 0.4091\n",
            "Epoch 45/200\n",
            "13/13 [==============================] - 16s 1s/step - loss: 0.2005 - accuracy: 0.3636 - val_loss: 0.2114 - val_accuracy: 0.4091\n",
            "Epoch 46/200\n",
            "13/13 [==============================] - 17s 1s/step - loss: 0.2006 - accuracy: 0.3636 - val_loss: 0.2114 - val_accuracy: 0.4091\n",
            "Epoch 47/200\n",
            "13/13 [==============================] - 16s 1s/step - loss: 0.2005 - accuracy: 0.3636 - val_loss: 0.2115 - val_accuracy: 0.4091\n",
            "Epoch 48/200\n",
            "13/13 [==============================] - 16s 1s/step - loss: 0.2006 - accuracy: 0.3636 - val_loss: 0.2114 - val_accuracy: 0.4091\n",
            "Epoch 49/200\n",
            "13/13 [==============================] - 16s 1s/step - loss: 0.2005 - accuracy: 0.3636 - val_loss: 0.2114 - val_accuracy: 0.4091\n",
            "Epoch 50/200\n",
            "13/13 [==============================] - 17s 1s/step - loss: 0.2005 - accuracy: 0.3636 - val_loss: 0.2113 - val_accuracy: 0.4091\n",
            "Epoch 51/200\n",
            "13/13 [==============================] - 16s 1s/step - loss: 0.2004 - accuracy: 0.3636 - val_loss: 0.2113 - val_accuracy: 0.4091\n",
            "Epoch 52/200\n",
            "13/13 [==============================] - 16s 1s/step - loss: 0.2004 - accuracy: 0.3636 - val_loss: 0.2113 - val_accuracy: 0.4091\n",
            "Epoch 53/200\n",
            "13/13 [==============================] - 17s 1s/step - loss: 0.2004 - accuracy: 0.3636 - val_loss: 0.2113 - val_accuracy: 0.4091\n",
            "Epoch 54/200\n",
            "13/13 [==============================] - 16s 1s/step - loss: 0.2004 - accuracy: 0.3636 - val_loss: 0.2113 - val_accuracy: 0.4091\n",
            "Epoch 55/200\n",
            "13/13 [==============================] - 16s 1s/step - loss: 0.2004 - accuracy: 0.3636 - val_loss: 0.2113 - val_accuracy: 0.4091\n",
            "Epoch 56/200\n",
            "13/13 [==============================] - 17s 1s/step - loss: 0.2005 - accuracy: 0.3636 - val_loss: 0.2113 - val_accuracy: 0.4091\n",
            "Epoch 57/200\n",
            "13/13 [==============================] - 16s 1s/step - loss: 0.2004 - accuracy: 0.3636 - val_loss: 0.2113 - val_accuracy: 0.4091\n",
            "Epoch 58/200\n",
            "13/13 [==============================] - 17s 1s/step - loss: 0.2004 - accuracy: 0.3636 - val_loss: 0.2113 - val_accuracy: 0.4091\n",
            "Epoch 59/200\n",
            "13/13 [==============================] - 18s 1s/step - loss: 0.2004 - accuracy: 0.3636 - val_loss: 0.2113 - val_accuracy: 0.4091\n",
            "Epoch 60/200\n",
            "13/13 [==============================] - 17s 1s/step - loss: 0.2004 - accuracy: 0.3636 - val_loss: 0.2113 - val_accuracy: 0.4091\n",
            "Epoch 61/200\n",
            "13/13 [==============================] - 18s 1s/step - loss: 0.2004 - accuracy: 0.3636 - val_loss: 0.2113 - val_accuracy: 0.4091\n",
            "Epoch 62/200\n",
            "13/13 [==============================] - 18s 1s/step - loss: 0.2004 - accuracy: 0.3636 - val_loss: 0.2113 - val_accuracy: 0.4091\n",
            "Epoch 63/200\n",
            "13/13 [==============================] - 17s 1s/step - loss: 0.2004 - accuracy: 0.3636 - val_loss: 0.2113 - val_accuracy: 0.4091\n",
            "Epoch 64/200\n",
            "13/13 [==============================] - 19s 2s/step - loss: 0.2005 - accuracy: 0.3636 - val_loss: 0.2112 - val_accuracy: 0.4091\n",
            "Epoch 65/200\n",
            "13/13 [==============================] - 17s 1s/step - loss: 0.2004 - accuracy: 0.3636 - val_loss: 0.2113 - val_accuracy: 0.4091\n",
            "Epoch 66/200\n",
            "13/13 [==============================] - 19s 2s/step - loss: 0.2004 - accuracy: 0.3636 - val_loss: 0.2112 - val_accuracy: 0.4091\n",
            "Epoch 67/200\n",
            "13/13 [==============================] - 18s 1s/step - loss: 0.2004 - accuracy: 0.3636 - val_loss: 0.2112 - val_accuracy: 0.4091\n",
            "Epoch 68/200\n",
            "13/13 [==============================] - 17s 1s/step - loss: 0.2006 - accuracy: 0.3636 - val_loss: 0.2112 - val_accuracy: 0.4091\n",
            "Epoch 69/200\n",
            "13/13 [==============================] - 18s 1s/step - loss: 0.2004 - accuracy: 0.3636 - val_loss: 0.2112 - val_accuracy: 0.4091\n",
            "Epoch 70/200\n",
            "13/13 [==============================] - 17s 1s/step - loss: 0.2005 - accuracy: 0.3636 - val_loss: 0.2113 - val_accuracy: 0.4091\n",
            "Epoch 71/200\n",
            "13/13 [==============================] - 18s 1s/step - loss: 0.2004 - accuracy: 0.3636 - val_loss: 0.2113 - val_accuracy: 0.4091\n",
            "Epoch 72/200\n",
            "13/13 [==============================] - 17s 1s/step - loss: 0.2004 - accuracy: 0.3636 - val_loss: 0.2113 - val_accuracy: 0.4091\n",
            "Epoch 73/200\n",
            "13/13 [==============================] - 17s 1s/step - loss: 0.2004 - accuracy: 0.3636 - val_loss: 0.2113 - val_accuracy: 0.4091\n",
            "Epoch 74/200\n",
            "13/13 [==============================] - 18s 1s/step - loss: 0.2004 - accuracy: 0.3636 - val_loss: 0.2113 - val_accuracy: 0.4091\n",
            "Epoch 75/200\n",
            "13/13 [==============================] - 17s 1s/step - loss: 0.2004 - accuracy: 0.3636 - val_loss: 0.2112 - val_accuracy: 0.4091\n",
            "Epoch 76/200\n",
            "13/13 [==============================] - 18s 1s/step - loss: 0.2005 - accuracy: 0.3636 - val_loss: 0.2112 - val_accuracy: 0.4091\n",
            "Epoch 77/200\n",
            "13/13 [==============================] - 18s 1s/step - loss: 0.2004 - accuracy: 0.3636 - val_loss: 0.2112 - val_accuracy: 0.4091\n",
            "Epoch 78/200\n",
            "13/13 [==============================] - 18s 1s/step - loss: 0.2004 - accuracy: 0.3636 - val_loss: 0.2112 - val_accuracy: 0.4091\n",
            "Epoch 79/200\n",
            "13/13 [==============================] - 19s 2s/step - loss: 0.2004 - accuracy: 0.3636 - val_loss: 0.2113 - val_accuracy: 0.4091\n",
            "Epoch 80/200\n",
            "13/13 [==============================] - 17s 1s/step - loss: 0.2004 - accuracy: 0.3636 - val_loss: 0.2113 - val_accuracy: 0.4091\n",
            "Epoch 81/200\n",
            "13/13 [==============================] - 18s 1s/step - loss: 0.2004 - accuracy: 0.3636 - val_loss: 0.2113 - val_accuracy: 0.4091\n",
            "Epoch 82/200\n",
            "13/13 [==============================] - 18s 1s/step - loss: 0.2004 - accuracy: 0.3636 - val_loss: 0.2113 - val_accuracy: 0.4091\n",
            "Epoch 83/200\n",
            "13/13 [==============================] - 18s 1s/step - loss: 0.2004 - accuracy: 0.3636 - val_loss: 0.2113 - val_accuracy: 0.4091\n",
            "Epoch 84/200\n",
            "13/13 [==============================] - 18s 1s/step - loss: 0.2004 - accuracy: 0.3636 - val_loss: 0.2113 - val_accuracy: 0.4091\n",
            "Epoch 85/200\n",
            "13/13 [==============================] - 17s 1s/step - loss: 0.2004 - accuracy: 0.3636 - val_loss: 0.2112 - val_accuracy: 0.4091\n",
            "Epoch 86/200\n",
            "13/13 [==============================] - 18s 1s/step - loss: 0.2004 - accuracy: 0.3636 - val_loss: 0.2112 - val_accuracy: 0.4091\n",
            "Epoch 87/200\n",
            "13/13 [==============================] - 16s 1s/step - loss: 0.2004 - accuracy: 0.3636 - val_loss: 0.2113 - val_accuracy: 0.4091\n",
            "Epoch 88/200\n",
            "13/13 [==============================] - 16s 1s/step - loss: 0.2004 - accuracy: 0.3636 - val_loss: 0.2112 - val_accuracy: 0.4091\n",
            "Epoch 89/200\n",
            "13/13 [==============================] - 17s 1s/step - loss: 0.2004 - accuracy: 0.3636 - val_loss: 0.2113 - val_accuracy: 0.4091\n",
            "Epoch 90/200\n",
            "13/13 [==============================] - 16s 1s/step - loss: 0.2004 - accuracy: 0.3636 - val_loss: 0.2113 - val_accuracy: 0.4091\n",
            "Epoch 91/200\n",
            "13/13 [==============================] - 16s 1s/step - loss: 0.2004 - accuracy: 0.3636 - val_loss: 0.2113 - val_accuracy: 0.4091\n",
            "Epoch 92/200\n",
            "13/13 [==============================] - 16s 1s/step - loss: 0.2004 - accuracy: 0.3636 - val_loss: 0.2113 - val_accuracy: 0.4091\n",
            "Epoch 93/200\n",
            "13/13 [==============================] - 17s 1s/step - loss: 0.2005 - accuracy: 0.3636 - val_loss: 0.2113 - val_accuracy: 0.4091\n",
            "Epoch 94/200\n",
            "13/13 [==============================] - 16s 1s/step - loss: 0.2005 - accuracy: 0.3636 - val_loss: 0.2113 - val_accuracy: 0.4091\n",
            "Epoch 95/200\n",
            "13/13 [==============================] - 16s 1s/step - loss: 0.2005 - accuracy: 0.3636 - val_loss: 0.2113 - val_accuracy: 0.4091\n",
            "Epoch 96/200\n",
            "13/13 [==============================] - 17s 1s/step - loss: 0.2005 - accuracy: 0.3636 - val_loss: 0.2113 - val_accuracy: 0.4091\n",
            "Epoch 97/200\n",
            "13/13 [==============================] - 16s 1s/step - loss: 0.2005 - accuracy: 0.3636 - val_loss: 0.2113 - val_accuracy: 0.4091\n",
            "Epoch 98/200\n",
            "13/13 [==============================] - 16s 1s/step - loss: 0.2004 - accuracy: 0.3636 - val_loss: 0.2113 - val_accuracy: 0.4091\n",
            "Epoch 99/200\n",
            "13/13 [==============================] - 17s 1s/step - loss: 0.2004 - accuracy: 0.3636 - val_loss: 0.2113 - val_accuracy: 0.4091\n",
            "Epoch 100/200\n",
            "13/13 [==============================] - 16s 1s/step - loss: 0.2004 - accuracy: 0.3636 - val_loss: 0.2113 - val_accuracy: 0.4091\n",
            "Epoch 101/200\n",
            "13/13 [==============================] - 16s 1s/step - loss: 0.2004 - accuracy: 0.3636 - val_loss: 0.2113 - val_accuracy: 0.4091\n",
            "Epoch 102/200\n",
            "13/13 [==============================] - 16s 1s/step - loss: 0.2004 - accuracy: 0.3636 - val_loss: 0.2113 - val_accuracy: 0.4091\n",
            "Epoch 103/200\n",
            "13/13 [==============================] - 17s 1s/step - loss: 0.2005 - accuracy: 0.3636 - val_loss: 0.2113 - val_accuracy: 0.4091\n",
            "Epoch 104/200\n",
            "13/13 [==============================] - 16s 1s/step - loss: 0.2004 - accuracy: 0.3636 - val_loss: 0.2113 - val_accuracy: 0.4091\n",
            "Epoch 105/200\n",
            "13/13 [==============================] - 16s 1s/step - loss: 0.2004 - accuracy: 0.3636 - val_loss: 0.2113 - val_accuracy: 0.4091\n",
            "Epoch 106/200\n",
            "13/13 [==============================] - 17s 1s/step - loss: 0.2004 - accuracy: 0.3636 - val_loss: 0.2112 - val_accuracy: 0.4091\n",
            "Epoch 107/200\n",
            "13/13 [==============================] - 16s 1s/step - loss: 0.2003 - accuracy: 0.3636 - val_loss: 0.2112 - val_accuracy: 0.4091\n",
            "Epoch 108/200\n",
            "13/13 [==============================] - 16s 1s/step - loss: 0.2004 - accuracy: 0.3636 - val_loss: 0.2113 - val_accuracy: 0.4091\n",
            "Epoch 109/200\n",
            "13/13 [==============================] - 17s 1s/step - loss: 0.2005 - accuracy: 0.3636 - val_loss: 0.2113 - val_accuracy: 0.4091\n",
            "Epoch 110/200\n",
            "13/13 [==============================] - 17s 1s/step - loss: 0.2005 - accuracy: 0.3636 - val_loss: 0.2113 - val_accuracy: 0.4091\n",
            "Epoch 111/200\n",
            "13/13 [==============================] - 17s 1s/step - loss: 0.2004 - accuracy: 0.3636 - val_loss: 0.2113 - val_accuracy: 0.4091\n",
            "Epoch 112/200\n",
            "13/13 [==============================] - 18s 1s/step - loss: 0.2004 - accuracy: 0.3636 - val_loss: 0.2112 - val_accuracy: 0.4091\n",
            "Epoch 113/200\n",
            "13/13 [==============================] - 16s 1s/step - loss: 0.2004 - accuracy: 0.3636 - val_loss: 0.2112 - val_accuracy: 0.4091\n",
            "Epoch 114/200\n",
            "13/13 [==============================] - 16s 1s/step - loss: 0.2004 - accuracy: 0.3636 - val_loss: 0.2112 - val_accuracy: 0.4091\n",
            "Epoch 115/200\n",
            "13/13 [==============================] - 17s 1s/step - loss: 0.2002 - accuracy: 0.3636 - val_loss: 0.2113 - val_accuracy: 0.4091\n",
            "Epoch 116/200\n",
            "13/13 [==============================] - 16s 1s/step - loss: 0.2024 - accuracy: 0.3636 - val_loss: 0.2113 - val_accuracy: 0.4091\n",
            "Epoch 117/200\n",
            "13/13 [==============================] - 16s 1s/step - loss: 0.2005 - accuracy: 0.3636 - val_loss: 0.2113 - val_accuracy: 0.4091\n",
            "Epoch 118/200\n",
            "13/13 [==============================] - 16s 1s/step - loss: 0.2004 - accuracy: 0.3636 - val_loss: 0.2113 - val_accuracy: 0.4091\n",
            "Epoch 119/200\n",
            "13/13 [==============================] - 17s 1s/step - loss: 0.2003 - accuracy: 0.3636 - val_loss: 0.2112 - val_accuracy: 0.4091\n",
            "Epoch 120/200\n",
            "13/13 [==============================] - 16s 1s/step - loss: 0.2004 - accuracy: 0.3636 - val_loss: 0.2112 - val_accuracy: 0.4091\n",
            "Epoch 121/200\n",
            "13/13 [==============================] - 16s 1s/step - loss: 0.2004 - accuracy: 0.3636 - val_loss: 0.2112 - val_accuracy: 0.4091\n",
            "Epoch 122/200\n",
            "13/13 [==============================] - 17s 1s/step - loss: 0.2004 - accuracy: 0.3636 - val_loss: 0.2112 - val_accuracy: 0.4091\n",
            "Epoch 123/200\n",
            "13/13 [==============================] - 16s 1s/step - loss: 0.2004 - accuracy: 0.3636 - val_loss: 0.2112 - val_accuracy: 0.4091\n",
            "Epoch 124/200\n",
            "13/13 [==============================] - 16s 1s/step - loss: 0.2004 - accuracy: 0.3636 - val_loss: 0.2112 - val_accuracy: 0.4091\n",
            "Epoch 125/200\n",
            "13/13 [==============================] - 17s 1s/step - loss: 0.2004 - accuracy: 0.3636 - val_loss: 0.2112 - val_accuracy: 0.4091\n",
            "Epoch 126/200\n",
            "13/13 [==============================] - 16s 1s/step - loss: 0.2004 - accuracy: 0.3636 - val_loss: 0.2112 - val_accuracy: 0.4091\n",
            "Epoch 127/200\n",
            "13/13 [==============================] - 16s 1s/step - loss: 0.2004 - accuracy: 0.3636 - val_loss: 0.2112 - val_accuracy: 0.4091\n",
            "Epoch 128/200\n",
            "13/13 [==============================] - 17s 1s/step - loss: 0.2004 - accuracy: 0.3636 - val_loss: 0.2113 - val_accuracy: 0.4091\n",
            "Epoch 129/200\n",
            "13/13 [==============================] - 17s 1s/step - loss: 0.2005 - accuracy: 0.3636 - val_loss: 0.2112 - val_accuracy: 0.4091\n",
            "Epoch 130/200\n",
            "13/13 [==============================] - 17s 1s/step - loss: 0.2005 - accuracy: 0.3636 - val_loss: 0.2113 - val_accuracy: 0.4091\n",
            "Epoch 131/200\n",
            "13/13 [==============================] - 17s 1s/step - loss: 0.2004 - accuracy: 0.3636 - val_loss: 0.2112 - val_accuracy: 0.4091\n",
            "Epoch 132/200\n",
            "13/13 [==============================] - 17s 1s/step - loss: 0.2004 - accuracy: 0.3636 - val_loss: 0.2112 - val_accuracy: 0.4091\n",
            "Epoch 133/200\n",
            "13/13 [==============================] - 17s 1s/step - loss: 0.2004 - accuracy: 0.3636 - val_loss: 0.2112 - val_accuracy: 0.4091\n",
            "Epoch 134/200\n",
            "13/13 [==============================] - 17s 1s/step - loss: 0.2004 - accuracy: 0.3636 - val_loss: 0.2113 - val_accuracy: 0.4091\n",
            "Epoch 135/200\n",
            "13/13 [==============================] - 17s 1s/step - loss: 0.2004 - accuracy: 0.3636 - val_loss: 0.2112 - val_accuracy: 0.4091\n",
            "Epoch 136/200\n",
            "13/13 [==============================] - 17s 1s/step - loss: 0.2004 - accuracy: 0.3636 - val_loss: 0.2112 - val_accuracy: 0.4091\n",
            "Epoch 137/200\n",
            "13/13 [==============================] - 18s 1s/step - loss: 0.2004 - accuracy: 0.3636 - val_loss: 0.2112 - val_accuracy: 0.4091\n",
            "Epoch 138/200\n",
            "13/13 [==============================] - 17s 1s/step - loss: 0.2005 - accuracy: 0.3636 - val_loss: 0.2112 - val_accuracy: 0.4091\n",
            "Epoch 139/200\n",
            "13/13 [==============================] - 16s 1s/step - loss: 0.2004 - accuracy: 0.3636 - val_loss: 0.2112 - val_accuracy: 0.4091\n",
            "Epoch 140/200\n",
            "13/13 [==============================] - 18s 1s/step - loss: 0.2004 - accuracy: 0.3636 - val_loss: 0.2112 - val_accuracy: 0.4091\n",
            "Epoch 141/200\n",
            "13/13 [==============================] - 16s 1s/step - loss: 0.2004 - accuracy: 0.3636 - val_loss: 0.2112 - val_accuracy: 0.4091\n",
            "Epoch 142/200\n",
            "13/13 [==============================] - 16s 1s/step - loss: 0.2004 - accuracy: 0.3636 - val_loss: 0.2112 - val_accuracy: 0.4091\n",
            "Epoch 143/200\n",
            "13/13 [==============================] - 17s 1s/step - loss: 0.2004 - accuracy: 0.3636 - val_loss: 0.2112 - val_accuracy: 0.4091\n",
            "Epoch 144/200\n",
            "13/13 [==============================] - 16s 1s/step - loss: 0.2005 - accuracy: 0.3636 - val_loss: 0.2112 - val_accuracy: 0.4091\n",
            "Epoch 145/200\n",
            "13/13 [==============================] - 16s 1s/step - loss: 0.2004 - accuracy: 0.3636 - val_loss: 0.2112 - val_accuracy: 0.4091\n",
            "Epoch 146/200\n",
            "13/13 [==============================] - 18s 1s/step - loss: 0.2004 - accuracy: 0.3636 - val_loss: 0.2112 - val_accuracy: 0.4091\n",
            "Epoch 147/200\n",
            "13/13 [==============================] - 16s 1s/step - loss: 0.2004 - accuracy: 0.3636 - val_loss: 0.2112 - val_accuracy: 0.4091\n",
            "Epoch 148/200\n",
            "13/13 [==============================] - 16s 1s/step - loss: 0.2004 - accuracy: 0.3636 - val_loss: 0.2112 - val_accuracy: 0.4091\n",
            "Epoch 149/200\n",
            "13/13 [==============================] - 16s 1s/step - loss: 0.2005 - accuracy: 0.3636 - val_loss: 0.2113 - val_accuracy: 0.4091\n",
            "Epoch 150/200\n",
            "13/13 [==============================] - 17s 1s/step - loss: 0.2004 - accuracy: 0.3636 - val_loss: 0.2113 - val_accuracy: 0.4091\n",
            "Epoch 151/200\n",
            "13/13 [==============================] - 17s 1s/step - loss: 0.2004 - accuracy: 0.3636 - val_loss: 0.2113 - val_accuracy: 0.4091\n",
            "Epoch 152/200\n",
            "13/13 [==============================] - 16s 1s/step - loss: 0.2004 - accuracy: 0.3636 - val_loss: 0.2113 - val_accuracy: 0.4091\n",
            "Epoch 153/200\n",
            "13/13 [==============================] - 17s 1s/step - loss: 0.2004 - accuracy: 0.3636 - val_loss: 0.2113 - val_accuracy: 0.4091\n",
            "Epoch 154/200\n",
            "13/13 [==============================] - 16s 1s/step - loss: 0.2005 - accuracy: 0.3636 - val_loss: 0.2113 - val_accuracy: 0.4091\n",
            "Epoch 155/200\n",
            "13/13 [==============================] - 17s 1s/step - loss: 0.2004 - accuracy: 0.3636 - val_loss: 0.2113 - val_accuracy: 0.4091\n",
            "Epoch 156/200\n",
            "13/13 [==============================] - 18s 1s/step - loss: 0.2004 - accuracy: 0.3636 - val_loss: 0.2113 - val_accuracy: 0.4091\n",
            "Epoch 157/200\n",
            "13/13 [==============================] - 17s 1s/step - loss: 0.2005 - accuracy: 0.3636 - val_loss: 0.2114 - val_accuracy: 0.4091\n",
            "Epoch 158/200\n",
            "13/13 [==============================] - 17s 1s/step - loss: 0.2005 - accuracy: 0.3636 - val_loss: 0.2114 - val_accuracy: 0.4091\n",
            "Epoch 159/200\n",
            "13/13 [==============================] - 18s 1s/step - loss: 0.2005 - accuracy: 0.3636 - val_loss: 0.2114 - val_accuracy: 0.4091\n",
            "Epoch 160/200\n",
            "13/13 [==============================] - 16s 1s/step - loss: 0.2006 - accuracy: 0.3636 - val_loss: 0.2114 - val_accuracy: 0.4091\n",
            "Epoch 161/200\n",
            "13/13 [==============================] - 17s 1s/step - loss: 0.2005 - accuracy: 0.3636 - val_loss: 0.2114 - val_accuracy: 0.4091\n",
            "Epoch 162/200\n",
            "13/13 [==============================] - 18s 1s/step - loss: 0.2005 - accuracy: 0.3636 - val_loss: 0.2114 - val_accuracy: 0.4091\n",
            "Epoch 163/200\n",
            "13/13 [==============================] - 17s 1s/step - loss: 0.2006 - accuracy: 0.3636 - val_loss: 0.2114 - val_accuracy: 0.4091\n",
            "Epoch 164/200\n",
            "13/13 [==============================] - 17s 1s/step - loss: 0.2005 - accuracy: 0.3636 - val_loss: 0.2114 - val_accuracy: 0.4091\n",
            "Epoch 165/200\n",
            "13/13 [==============================] - 18s 1s/step - loss: 0.2005 - accuracy: 0.3636 - val_loss: 0.2113 - val_accuracy: 0.4091\n",
            "Epoch 166/200\n",
            "13/13 [==============================] - 17s 1s/step - loss: 0.2005 - accuracy: 0.3636 - val_loss: 0.2113 - val_accuracy: 0.4091\n",
            "Epoch 167/200\n",
            "13/13 [==============================] - 18s 1s/step - loss: 0.2005 - accuracy: 0.3636 - val_loss: 0.2113 - val_accuracy: 0.4091\n",
            "Epoch 168/200\n",
            "13/13 [==============================] - 17s 1s/step - loss: 0.2005 - accuracy: 0.3636 - val_loss: 0.2114 - val_accuracy: 0.4091\n",
            "Epoch 169/200\n",
            "13/13 [==============================] - 17s 1s/step - loss: 0.2005 - accuracy: 0.3636 - val_loss: 0.2113 - val_accuracy: 0.4091\n",
            "Epoch 170/200\n",
            "13/13 [==============================] - 18s 1s/step - loss: 0.2004 - accuracy: 0.3636 - val_loss: 0.2113 - val_accuracy: 0.4091\n",
            "Epoch 171/200\n",
            "13/13 [==============================] - 17s 1s/step - loss: 0.2004 - accuracy: 0.3636 - val_loss: 0.2113 - val_accuracy: 0.4091\n",
            "Epoch 172/200\n",
            "13/13 [==============================] - 53s 4s/step - loss: 0.2004 - accuracy: 0.3636 - val_loss: 0.2113 - val_accuracy: 0.4091\n",
            "Epoch 173/200\n",
            "13/13 [==============================] - 17s 1s/step - loss: 0.2004 - accuracy: 0.3636 - val_loss: 0.2113 - val_accuracy: 0.4091\n",
            "Epoch 174/200\n",
            "13/13 [==============================] - 17s 1s/step - loss: 0.2004 - accuracy: 0.3636 - val_loss: 0.2113 - val_accuracy: 0.4091\n",
            "Epoch 175/200\n",
            "13/13 [==============================] - 18s 1s/step - loss: 0.2006 - accuracy: 0.3636 - val_loss: 0.2113 - val_accuracy: 0.4091\n",
            "Epoch 176/200\n",
            "13/13 [==============================] - 17s 1s/step - loss: 0.2005 - accuracy: 0.3636 - val_loss: 0.2113 - val_accuracy: 0.4091\n",
            "Epoch 177/200\n",
            "13/13 [==============================] - 17s 1s/step - loss: 0.2005 - accuracy: 0.3636 - val_loss: 0.2113 - val_accuracy: 0.4091\n",
            "Epoch 178/200\n",
            "13/13 [==============================] - 18s 1s/step - loss: 0.2005 - accuracy: 0.3636 - val_loss: 0.2114 - val_accuracy: 0.4091\n",
            "Epoch 179/200\n",
            "13/13 [==============================] - 17s 1s/step - loss: 0.2006 - accuracy: 0.3636 - val_loss: 0.2114 - val_accuracy: 0.4091\n",
            "Epoch 180/200\n",
            "13/13 [==============================] - 17s 1s/step - loss: 0.2006 - accuracy: 0.3636 - val_loss: 0.2114 - val_accuracy: 0.4091\n",
            "Epoch 181/200\n",
            "13/13 [==============================] - 17s 1s/step - loss: 0.2005 - accuracy: 0.3636 - val_loss: 0.2114 - val_accuracy: 0.4091\n",
            "Epoch 182/200\n",
            "13/13 [==============================] - 17s 1s/step - loss: 0.2005 - accuracy: 0.3636 - val_loss: 0.2114 - val_accuracy: 0.4091\n",
            "Epoch 183/200\n",
            "13/13 [==============================] - 16s 1s/step - loss: 0.2005 - accuracy: 0.3636 - val_loss: 0.2113 - val_accuracy: 0.4091\n",
            "Epoch 184/200\n",
            "13/13 [==============================] - 17s 1s/step - loss: 0.2005 - accuracy: 0.3636 - val_loss: 0.2113 - val_accuracy: 0.4091\n",
            "Epoch 185/200\n",
            "13/13 [==============================] - 16s 1s/step - loss: 0.2005 - accuracy: 0.3636 - val_loss: 0.2113 - val_accuracy: 0.4091\n",
            "Epoch 186/200\n",
            "13/13 [==============================] - 17s 1s/step - loss: 0.2004 - accuracy: 0.3636 - val_loss: 0.2113 - val_accuracy: 0.4091\n",
            "Epoch 187/200\n",
            "13/13 [==============================] - 17s 1s/step - loss: 0.2004 - accuracy: 0.3636 - val_loss: 0.2113 - val_accuracy: 0.4091\n",
            "Epoch 188/200\n",
            "13/13 [==============================] - 16s 1s/step - loss: 0.2004 - accuracy: 0.3636 - val_loss: 0.2113 - val_accuracy: 0.4091\n",
            "Epoch 189/200\n",
            "13/13 [==============================] - 16s 1s/step - loss: 0.2004 - accuracy: 0.3636 - val_loss: 0.2113 - val_accuracy: 0.4091\n",
            "Epoch 190/200\n",
            "13/13 [==============================] - 18s 1s/step - loss: 0.2003 - accuracy: 0.3636 - val_loss: 0.2112 - val_accuracy: 0.4091\n",
            "Epoch 191/200\n",
            "13/13 [==============================] - 16s 1s/step - loss: 0.2004 - accuracy: 0.3636 - val_loss: 0.2112 - val_accuracy: 0.4091\n",
            "Epoch 192/200\n",
            "13/13 [==============================] - 17s 1s/step - loss: 0.2004 - accuracy: 0.3636 - val_loss: 0.2112 - val_accuracy: 0.4091\n",
            "Epoch 193/200\n",
            "13/13 [==============================] - 17s 1s/step - loss: 0.2003 - accuracy: 0.3636 - val_loss: 0.2112 - val_accuracy: 0.4091\n",
            "Epoch 194/200\n",
            "13/13 [==============================] - 16s 1s/step - loss: 0.2005 - accuracy: 0.3636 - val_loss: 0.2113 - val_accuracy: 0.4091\n",
            "Epoch 195/200\n",
            "13/13 [==============================] - 16s 1s/step - loss: 0.2004 - accuracy: 0.3636 - val_loss: 0.2112 - val_accuracy: 0.4091\n",
            "Epoch 196/200\n",
            "13/13 [==============================] - 17s 1s/step - loss: 0.2004 - accuracy: 0.3636 - val_loss: 0.2112 - val_accuracy: 0.4091\n",
            "Epoch 197/200\n",
            "13/13 [==============================] - 16s 1s/step - loss: 0.2004 - accuracy: 0.3636 - val_loss: 0.2112 - val_accuracy: 0.4091\n",
            "Epoch 198/200\n",
            "13/13 [==============================] - 16s 1s/step - loss: 0.2004 - accuracy: 0.3636 - val_loss: 0.2112 - val_accuracy: 0.4091\n",
            "Epoch 199/200\n",
            "13/13 [==============================] - 18s 1s/step - loss: 0.2004 - accuracy: 0.3636 - val_loss: 0.2112 - val_accuracy: 0.4091\n",
            "Epoch 200/200\n",
            "13/13 [==============================] - 17s 1s/step - loss: 0.2004 - accuracy: 0.3636 - val_loss: 0.2113 - val_accuracy: 0.4091\n"
          ]
        },
        {
          "output_type": "execute_result",
          "data": {
            "text/plain": [
              "<keras.callbacks.History at 0x7fe3f61a4e20>"
            ]
          },
          "metadata": {},
          "execution_count": 255
        }
      ]
    },
    {
      "cell_type": "code",
      "source": [
        "plot_epochs(cbs_train, \"ACTIVATIONS TRAIN\")"
      ],
      "metadata": {
        "colab": {
          "base_uri": "https://localhost:8080/",
          "height": 381
        },
        "id": "iV1RIKlhH6Yb",
        "outputId": "dbeb6542-3923-4a0e-b155-9d52fffcc886"
      },
      "execution_count": 260,
      "outputs": [
        {
          "output_type": "display_data",
          "data": {
            "text/plain": [
              "<Figure size 1500x400 with 2 Axes>"
            ],
            "image/png": "[encoded data removed]"
          },
          "metadata": {}
        }
      ]
    },
    {
      "cell_type": "code",
      "source": [
        "plot_epochs(cbs_test, \"ACTIVATIONS TEST\")"
      ],
      "metadata": {
        "colab": {
          "base_uri": "https://localhost:8080/",
          "height": 381
        },
        "id": "L76Ig8mEIOYq",
        "outputId": "6adb4f6b-61f2-4c40-ec61-150c39465868"
      },
      "execution_count": 261,
      "outputs": [
        {
          "output_type": "display_data",
          "data": {
            "text/plain": [
              "<Figure size 1500x400 with 2 Axes>"
            ],
            "image/png": "[encoded data removed]"
          },
          "metadata": {}
        }
      ]
    },
    {
      "cell_type": "code",
      "source": [
        "y_pred = model.predict(X_test).argmax(axis=1)\n",
        "y_pred.shape\n"
      ],
      "metadata": {
        "colab": {
          "base_uri": "https://localhost:8080/"
        },
        "id": "-2F06aGQ2QfH",
        "outputId": "06a471f5-c097-4579-dbff-ec9527e9e8b7"
      },
      "execution_count": 279,
      "outputs": [
        {
          "output_type": "stream",
          "name": "stdout",
          "text": [
            "1/1 [==============================] - 1s 660ms/step\n"
          ]
        },
        {
          "output_type": "execute_result",
          "data": {
            "text/plain": [
              "(22, 1)"
            ]
          },
          "metadata": {},
          "execution_count": 279
        }
      ]
    },
    {
      "cell_type": "code",
      "source": [
        "y_pred"
      ],
      "metadata": {
        "colab": {
          "base_uri": "https://localhost:8080/"
        },
        "id": "cChkWGM0QVKy",
        "outputId": "fd2c4338-627a-4f65-e1af-78d574354fcc"
      },
      "execution_count": 280,
      "outputs": [
        {
          "output_type": "execute_result",
          "data": {
            "text/plain": [
              "array([[1],\n",
              "       [1],\n",
              "       [1],\n",
              "       [1],\n",
              "       [1],\n",
              "       [1],\n",
              "       [1],\n",
              "       [1],\n",
              "       [1],\n",
              "       [1],\n",
              "       [1],\n",
              "       [1],\n",
              "       [1],\n",
              "       [1],\n",
              "       [1],\n",
              "       [1],\n",
              "       [1],\n",
              "       [1],\n",
              "       [1],\n",
              "       [1],\n",
              "       [1],\n",
              "       [1]])"
            ]
          },
          "metadata": {},
          "execution_count": 280
        }
      ]
    },
    {
      "cell_type": "code",
      "source": [
        "Y_test"
      ],
      "metadata": {
        "colab": {
          "base_uri": "https://localhost:8080/"
        },
        "id": "2t7ytc-vErZY",
        "outputId": "b06a14a6-2374-44b3-a6d7-28085d934f79"
      },
      "execution_count": 281,
      "outputs": [
        {
          "output_type": "execute_result",
          "data": {
            "text/plain": [
              "array([0.   , 0.2  , 0.   , 1.   , 1.   , 1.   , 0.   , 1.   , 0.26 ,\n",
              "       0.   , 0.   , 0.   , 1.   , 0.05 , 1.   , 1.   , 0.   , 0.795,\n",
              "       0.   , 0.615, 0.   , 1.   ])"
            ]
          },
          "metadata": {},
          "execution_count": 281
        }
      ]
    },
    {
      "cell_type": "code",
      "source": [
        "model.evaluate(X_test, Y_test)"
      ],
      "metadata": {
        "colab": {
          "base_uri": "https://localhost:8080/"
        },
        "id": "wKPjUV0SRCRA",
        "outputId": "83cbd3fc-84b9-406c-b1cf-22ccbed49533"
      },
      "execution_count": 282,
      "outputs": [
        {
          "output_type": "stream",
          "name": "stdout",
          "text": [
            "1/1 [==============================] - 0s 145ms/step - loss: 0.2112 - accuracy: 0.4091\n"
          ]
        },
        {
          "output_type": "execute_result",
          "data": {
            "text/plain": [
              "[0.21124841272830963, 0.40909096598625183]"
            ]
          },
          "metadata": {},
          "execution_count": 282
        }
      ]
    },
    {
      "cell_type": "code",
      "source": [
        "preds_train = model.predict(X_train).argmax(axis=1)\n",
        "preds_test = model.predict(X_test).argmax(axis=1)\n",
        "\n",
        "print(\"Accuracy train: %.3f\"%(np.mean(preds_train == Y_train)))\n",
        "print(\"Accuracy test:  %.3f\"%(np.mean(preds_test == Y_test)))"
      ],
      "metadata": {
        "colab": {
          "base_uri": "https://localhost:8080/"
        },
        "id": "BA8AFYaeYjJW",
        "outputId": "c0d496df-86a4-4fe5-be67-a4c422ebbc16"
      },
      "execution_count": 283,
      "outputs": [
        {
          "output_type": "stream",
          "name": "stdout",
          "text": [
            "4/4 [==============================] - 1s 248ms/step\n",
            "1/1 [==============================] - 0s 306ms/step\n",
            "Accuracy train: 0.347\n",
            "Accuracy test:  0.364\n"
          ]
        }
      ]
    },
    {
      "cell_type": "markdown",
      "source": [
        "Usando datos con feature engineering:"
      ],
      "metadata": {
        "id": "BuqGYPLNUy8b"
      }
    },
    {
      "cell_type": "code",
      "source": [
        "with open('feature_structure.s','rb') as file:\n",
        "  feature_structure = pickle.load(file)"
      ],
      "metadata": {
        "id": "58Hp0Vm2Uonl"
      },
      "execution_count": 10,
      "outputs": []
    },
    {
      "cell_type": "code",
      "source": [
        "X_train, X_test, Y_train, Y_test = train_test_split(feature_structure, structure_data_target, test_size=.15)"
      ],
      "metadata": {
        "id": "-F6-0rz0UxOC"
      },
      "execution_count": 11,
      "outputs": []
    },
    {
      "cell_type": "code",
      "source": [
        "X_train.shape"
      ],
      "metadata": {
        "colab": {
          "base_uri": "https://localhost:8080/"
        },
        "id": "PYufnsCFWbAf",
        "outputId": "f3da6bfd-a5ad-471e-ded1-39ccc32e8471"
      },
      "execution_count": 12,
      "outputs": [
        {
          "output_type": "execute_result",
          "data": {
            "text/plain": [
              "(121, 4, 200)"
            ]
          },
          "metadata": {},
          "execution_count": 12
        }
      ]
    },
    {
      "cell_type": "code",
      "source": [
        "model = get_model(X_train,'SimpleRNN')\n",
        "model.summary()"
      ],
      "metadata": {
        "colab": {
          "base_uri": "https://localhost:8080/"
        },
        "id": "FikLL3lJZdAZ",
        "outputId": "f3807800-48ab-4553-b10b-698ae0f36405"
      },
      "execution_count": 13,
      "outputs": [
        {
          "output_type": "stream",
          "name": "stdout",
          "text": [
            "Model: \"sequential\"\n",
            "_________________________________________________________________\n",
            " Layer (type)                Output Shape              Param #   \n",
            "=================================================================\n",
            " RNN_1 (SimpleRNN)           (None, 4, 350)            192850    \n",
            "                                                                 \n",
            " RNN_2 (SimpleRNN)           (None, 350)               245350    \n",
            "                                                                 \n",
            " Repeat_Vector_1 (RepeatVect  (None, 250, 350)         0         \n",
            " or)                                                             \n",
            "                                                                 \n",
            " RNN_3 (SimpleRNN)           (None, 250, 250)          150250    \n",
            "                                                                 \n",
            " RNN_4 (SimpleRNN)           (None, 250, 100)          35100     \n",
            "                                                                 \n",
            " Dense_3 (Dense)             (None, 250, 60)           6060      \n",
            "                                                                 \n",
            " Dense_1 (Dense)             (None, 250, 40)           2440      \n",
            "                                                                 \n",
            " Dense_2 (Dense)             (None, 250, 1)            41        \n",
            "                                                                 \n",
            "=================================================================\n",
            "Total params: 632,091\n",
            "Trainable params: 632,091\n",
            "Non-trainable params: 0\n",
            "_________________________________________________________________\n"
          ]
        }
      ]
    },
    {
      "cell_type": "code",
      "source": [
        "model.compile(optimizer='adam',loss='mse')\n",
        "model.fit(X_train, Y_train, epochs=100, validation_data=(X_test, Y_test))"
      ],
      "metadata": {
        "colab": {
          "base_uri": "https://localhost:8080/"
        },
        "id": "1QqBYHmLV1wj",
        "outputId": "860608ef-c0dc-438b-8893-9bfe2febc91b"
      },
      "execution_count": 14,
      "outputs": [
        {
          "output_type": "stream",
          "name": "stdout",
          "text": [
            "Epoch 1/100\n",
            "4/4 [==============================] - 5s 490ms/step - loss: 0.2590 - val_loss: 0.1960\n",
            "Epoch 2/100\n",
            "4/4 [==============================] - 1s 339ms/step - loss: 0.2447 - val_loss: 0.3251\n",
            "Epoch 3/100\n",
            "4/4 [==============================] - 1s 337ms/step - loss: 0.2281 - val_loss: 0.2156\n",
            "Epoch 4/100\n",
            "4/4 [==============================] - 1s 378ms/step - loss: 0.2519 - val_loss: 0.2065\n",
            "Epoch 5/100\n",
            "4/4 [==============================] - 2s 472ms/step - loss: 0.2035 - val_loss: 0.2736\n",
            "Epoch 6/100\n",
            "4/4 [==============================] - 1s 342ms/step - loss: 0.2282 - val_loss: 0.1958\n",
            "Epoch 7/100\n",
            "4/4 [==============================] - 1s 345ms/step - loss: 0.2071 - val_loss: 0.2344\n",
            "Epoch 8/100\n",
            "4/4 [==============================] - 1s 341ms/step - loss: 0.2170 - val_loss: 0.1966\n",
            "Epoch 9/100\n",
            "4/4 [==============================] - 1s 336ms/step - loss: 0.2103 - val_loss: 0.2027\n",
            "Epoch 10/100\n",
            "4/4 [==============================] - 1s 334ms/step - loss: 0.2090 - val_loss: 0.1954\n",
            "Epoch 11/100\n",
            "4/4 [==============================] - 1s 345ms/step - loss: 0.2035 - val_loss: 0.2058\n",
            "Epoch 12/100\n",
            "4/4 [==============================] - 1s 361ms/step - loss: 0.2049 - val_loss: 0.2005\n",
            "Epoch 13/100\n",
            "4/4 [==============================] - 2s 509ms/step - loss: 0.2042 - val_loss: 0.2048\n",
            "Epoch 14/100\n",
            "4/4 [==============================] - 1s 352ms/step - loss: 0.2041 - val_loss: 0.2007\n",
            "Epoch 15/100\n",
            "4/4 [==============================] - 1s 336ms/step - loss: 0.2056 - val_loss: 0.1972\n",
            "Epoch 16/100\n",
            "4/4 [==============================] - 1s 339ms/step - loss: 0.2033 - val_loss: 0.2019\n",
            "Epoch 17/100\n",
            "4/4 [==============================] - 1s 338ms/step - loss: 0.2042 - val_loss: 0.1980\n",
            "Epoch 18/100\n",
            "4/4 [==============================] - 1s 340ms/step - loss: 0.2033 - val_loss: 0.1994\n",
            "Epoch 19/100\n",
            "4/4 [==============================] - 1s 339ms/step - loss: 0.2086 - val_loss: 0.2005\n",
            "Epoch 20/100\n",
            "4/4 [==============================] - 1s 346ms/step - loss: 0.2053 - val_loss: 0.1964\n",
            "Epoch 21/100\n",
            "4/4 [==============================] - 2s 550ms/step - loss: 0.2037 - val_loss: 0.2019\n",
            "Epoch 22/100\n",
            "4/4 [==============================] - 1s 348ms/step - loss: 0.2043 - val_loss: 0.2013\n",
            "Epoch 23/100\n",
            "4/4 [==============================] - 1s 355ms/step - loss: 0.2034 - val_loss: 0.2001\n",
            "Epoch 24/100\n",
            "4/4 [==============================] - 1s 346ms/step - loss: 0.2027 - val_loss: 0.1988\n",
            "Epoch 25/100\n",
            "4/4 [==============================] - 1s 353ms/step - loss: 0.2040 - val_loss: 0.1978\n",
            "Epoch 26/100\n",
            "4/4 [==============================] - 1s 339ms/step - loss: 0.2054 - val_loss: 0.2017\n",
            "Epoch 27/100\n",
            "4/4 [==============================] - 1s 341ms/step - loss: 0.2038 - val_loss: 0.2012\n",
            "Epoch 28/100\n",
            "4/4 [==============================] - 1s 344ms/step - loss: 0.2053 - val_loss: 0.2016\n",
            "Epoch 29/100\n",
            "4/4 [==============================] - 2s 549ms/step - loss: 0.2049 - val_loss: 0.1964\n",
            "Epoch 30/100\n",
            "4/4 [==============================] - 1s 342ms/step - loss: 0.2040 - val_loss: 0.1993\n",
            "Epoch 31/100\n",
            "4/4 [==============================] - 1s 343ms/step - loss: 0.2030 - val_loss: 0.1995\n",
            "Epoch 32/100\n",
            "4/4 [==============================] - 1s 351ms/step - loss: 0.2047 - val_loss: 0.1991\n",
            "Epoch 33/100\n",
            "4/4 [==============================] - 1s 354ms/step - loss: 0.2036 - val_loss: 0.2028\n",
            "Epoch 34/100\n",
            "4/4 [==============================] - 1s 346ms/step - loss: 0.2035 - val_loss: 0.2006\n",
            "Epoch 35/100\n",
            "4/4 [==============================] - 1s 343ms/step - loss: 0.2039 - val_loss: 0.1986\n",
            "Epoch 36/100\n",
            "4/4 [==============================] - 1s 336ms/step - loss: 0.2035 - val_loss: 0.2004\n",
            "Epoch 37/100\n",
            "4/4 [==============================] - 2s 573ms/step - loss: 0.2029 - val_loss: 0.2001\n",
            "Epoch 38/100\n",
            "4/4 [==============================] - 1s 339ms/step - loss: 0.2033 - val_loss: 0.2006\n",
            "Epoch 39/100\n",
            "4/4 [==============================] - 1s 342ms/step - loss: 0.2031 - val_loss: 0.1997\n",
            "Epoch 40/100\n",
            "4/4 [==============================] - 1s 338ms/step - loss: 0.2034 - val_loss: 0.1976\n",
            "Epoch 41/100\n",
            "4/4 [==============================] - 1s 345ms/step - loss: 0.2029 - val_loss: 0.1987\n",
            "Epoch 42/100\n",
            "4/4 [==============================] - 1s 346ms/step - loss: 0.2032 - val_loss: 0.1994\n",
            "Epoch 43/100\n",
            "4/4 [==============================] - 1s 342ms/step - loss: 0.2026 - val_loss: 0.2013\n",
            "Epoch 44/100\n",
            "4/4 [==============================] - 1s 335ms/step - loss: 0.2031 - val_loss: 0.2025\n",
            "Epoch 45/100\n",
            "4/4 [==============================] - 2s 597ms/step - loss: 0.2033 - val_loss: 0.2019\n",
            "Epoch 46/100\n",
            "4/4 [==============================] - 1s 338ms/step - loss: 0.2029 - val_loss: 0.2009\n",
            "Epoch 47/100\n",
            "4/4 [==============================] - 1s 334ms/step - loss: 0.2028 - val_loss: 0.1998\n",
            "Epoch 48/100\n",
            "4/4 [==============================] - 1s 337ms/step - loss: 0.2030 - val_loss: 0.1985\n",
            "Epoch 49/100\n",
            "4/4 [==============================] - 1s 337ms/step - loss: 0.2034 - val_loss: 0.1983\n",
            "Epoch 50/100\n",
            "4/4 [==============================] - 1s 347ms/step - loss: 0.2027 - val_loss: 0.1997\n",
            "Epoch 51/100\n",
            "4/4 [==============================] - 1s 344ms/step - loss: 0.2030 - val_loss: 0.2008\n",
            "Epoch 52/100\n",
            "4/4 [==============================] - 1s 335ms/step - loss: 0.2033 - val_loss: 0.2005\n",
            "Epoch 53/100\n",
            "4/4 [==============================] - 2s 575ms/step - loss: 0.2029 - val_loss: 0.2007\n",
            "Epoch 54/100\n",
            "4/4 [==============================] - 1s 350ms/step - loss: 0.2041 - val_loss: 0.2019\n",
            "Epoch 55/100\n",
            "4/4 [==============================] - 1s 337ms/step - loss: 0.2032 - val_loss: 0.1996\n",
            "Epoch 56/100\n",
            "4/4 [==============================] - 1s 346ms/step - loss: 0.2028 - val_loss: 0.1984\n",
            "Epoch 57/100\n",
            "4/4 [==============================] - 1s 335ms/step - loss: 0.2029 - val_loss: 0.1986\n",
            "Epoch 58/100\n",
            "4/4 [==============================] - 1s 337ms/step - loss: 0.2028 - val_loss: 0.1994\n",
            "Epoch 59/100\n",
            "4/4 [==============================] - 1s 340ms/step - loss: 0.2029 - val_loss: 0.2003\n",
            "Epoch 60/100\n",
            "4/4 [==============================] - 1s 346ms/step - loss: 0.2038 - val_loss: 0.1988\n",
            "Epoch 61/100\n",
            "4/4 [==============================] - 2s 511ms/step - loss: 0.2027 - val_loss: 0.1998\n",
            "Epoch 62/100\n",
            "4/4 [==============================] - 2s 350ms/step - loss: 0.2028 - val_loss: 0.1988\n",
            "Epoch 63/100\n",
            "4/4 [==============================] - 1s 336ms/step - loss: 0.2032 - val_loss: 0.2000\n",
            "Epoch 64/100\n",
            "4/4 [==============================] - 1s 332ms/step - loss: 0.2033 - val_loss: 0.2000\n",
            "Epoch 65/100\n",
            "4/4 [==============================] - 1s 345ms/step - loss: 0.2026 - val_loss: 0.1985\n",
            "Epoch 66/100\n",
            "4/4 [==============================] - 1s 337ms/step - loss: 0.2028 - val_loss: 0.1983\n",
            "Epoch 67/100\n",
            "4/4 [==============================] - 1s 336ms/step - loss: 0.2034 - val_loss: 0.1979\n",
            "Epoch 68/100\n",
            "4/4 [==============================] - 1s 344ms/step - loss: 0.2029 - val_loss: 0.1986\n",
            "Epoch 69/100\n",
            "4/4 [==============================] - 2s 479ms/step - loss: 0.2028 - val_loss: 0.2006\n",
            "Epoch 70/100\n",
            "4/4 [==============================] - 2s 398ms/step - loss: 0.2028 - val_loss: 0.2011\n",
            "Epoch 71/100\n",
            "4/4 [==============================] - 1s 333ms/step - loss: 0.2035 - val_loss: 0.2002\n",
            "Epoch 72/100\n",
            "4/4 [==============================] - 1s 352ms/step - loss: 0.2027 - val_loss: 0.2003\n",
            "Epoch 73/100\n",
            "4/4 [==============================] - 1s 338ms/step - loss: 0.2028 - val_loss: 0.2009\n",
            "Epoch 74/100\n",
            "4/4 [==============================] - 1s 341ms/step - loss: 0.2029 - val_loss: 0.2005\n",
            "Epoch 75/100\n",
            "4/4 [==============================] - 1s 333ms/step - loss: 0.2029 - val_loss: 0.2007\n",
            "Epoch 76/100\n",
            "4/4 [==============================] - 1s 347ms/step - loss: 0.2027 - val_loss: 0.1999\n",
            "Epoch 77/100\n",
            "4/4 [==============================] - 2s 413ms/step - loss: 0.2028 - val_loss: 0.1992\n",
            "Epoch 78/100\n",
            "4/4 [==============================] - 2s 458ms/step - loss: 0.2028 - val_loss: 0.1987\n",
            "Epoch 79/100\n",
            "4/4 [==============================] - 1s 348ms/step - loss: 0.2028 - val_loss: 0.1985\n",
            "Epoch 80/100\n",
            "4/4 [==============================] - 1s 347ms/step - loss: 0.2027 - val_loss: 0.1989\n",
            "Epoch 81/100\n",
            "4/4 [==============================] - 1s 346ms/step - loss: 0.2029 - val_loss: 0.1996\n",
            "Epoch 82/100\n",
            "4/4 [==============================] - 1s 336ms/step - loss: 0.2027 - val_loss: 0.1997\n",
            "Epoch 83/100\n",
            "4/4 [==============================] - 1s 335ms/step - loss: 0.2030 - val_loss: 0.1989\n",
            "Epoch 84/100\n",
            "4/4 [==============================] - 1s 334ms/step - loss: 0.2033 - val_loss: 0.1997\n",
            "Epoch 85/100\n",
            "4/4 [==============================] - 1s 355ms/step - loss: 0.2028 - val_loss: 0.1999\n",
            "Epoch 86/100\n",
            "4/4 [==============================] - 2s 523ms/step - loss: 0.2032 - val_loss: 0.1989\n",
            "Epoch 87/100\n",
            "4/4 [==============================] - 1s 329ms/step - loss: 0.2027 - val_loss: 0.1993\n",
            "Epoch 88/100\n",
            "4/4 [==============================] - 1s 333ms/step - loss: 0.2028 - val_loss: 0.1991\n",
            "Epoch 89/100\n",
            "4/4 [==============================] - 1s 347ms/step - loss: 0.2027 - val_loss: 0.1993\n",
            "Epoch 90/100\n",
            "4/4 [==============================] - 1s 347ms/step - loss: 0.2027 - val_loss: 0.1995\n",
            "Epoch 91/100\n",
            "4/4 [==============================] - 1s 347ms/step - loss: 0.2031 - val_loss: 0.2001\n",
            "Epoch 92/100\n",
            "4/4 [==============================] - 1s 339ms/step - loss: 0.2035 - val_loss: 0.1991\n",
            "Epoch 93/100\n",
            "4/4 [==============================] - 1s 341ms/step - loss: 0.2029 - val_loss: 0.2000\n",
            "Epoch 94/100\n",
            "4/4 [==============================] - 2s 585ms/step - loss: 0.2027 - val_loss: 0.1998\n",
            "Epoch 95/100\n",
            "4/4 [==============================] - 1s 341ms/step - loss: 0.2027 - val_loss: 0.1992\n",
            "Epoch 96/100\n",
            "4/4 [==============================] - 2s 500ms/step - loss: 0.2031 - val_loss: 0.1984\n",
            "Epoch 97/100\n",
            "4/4 [==============================] - 3s 778ms/step - loss: 0.2031 - val_loss: 0.2001\n",
            "Epoch 98/100\n",
            "4/4 [==============================] - 1s 347ms/step - loss: 0.2032 - val_loss: 0.2000\n",
            "Epoch 99/100\n",
            "4/4 [==============================] - 1s 347ms/step - loss: 0.2029 - val_loss: 0.1999\n",
            "Epoch 100/100\n",
            "4/4 [==============================] - 2s 445ms/step - loss: 0.2026 - val_loss: 0.1993\n"
          ]
        },
        {
          "output_type": "execute_result",
          "data": {
            "text/plain": [
              "<keras.callbacks.History at 0x7f9103ac6bf0>"
            ]
          },
          "metadata": {},
          "execution_count": 14
        }
      ]
    },
    {
      "cell_type": "code",
      "source": [
        "y_pred = model.predict(X_test).argmax(axis=1)\n",
        "y_pred.shape"
      ],
      "metadata": {
        "colab": {
          "base_uri": "https://localhost:8080/"
        },
        "id": "k7gqA4buVTrd",
        "outputId": "621cb6e8-2fcf-478d-f5b7-fb1985cc5e88"
      },
      "execution_count": 15,
      "outputs": [
        {
          "output_type": "stream",
          "name": "stdout",
          "text": [
            "1/1 [==============================] - 1s 612ms/step\n"
          ]
        },
        {
          "output_type": "execute_result",
          "data": {
            "text/plain": [
              "(22, 1)"
            ]
          },
          "metadata": {},
          "execution_count": 15
        }
      ]
    },
    {
      "cell_type": "code",
      "source": [
        "y_pred"
      ],
      "metadata": {
        "colab": {
          "base_uri": "https://localhost:8080/"
        },
        "id": "F_pFuKeSZn52",
        "outputId": "590070e7-aec8-4e51-c38d-9b9eba841e73"
      },
      "execution_count": 16,
      "outputs": [
        {
          "output_type": "execute_result",
          "data": {
            "text/plain": [
              "array([[0],\n",
              "       [0],\n",
              "       [0],\n",
              "       [0],\n",
              "       [0],\n",
              "       [0],\n",
              "       [0],\n",
              "       [0],\n",
              "       [0],\n",
              "       [0],\n",
              "       [0],\n",
              "       [0],\n",
              "       [0],\n",
              "       [0],\n",
              "       [0],\n",
              "       [0],\n",
              "       [0],\n",
              "       [0],\n",
              "       [0],\n",
              "       [0],\n",
              "       [0],\n",
              "       [0]])"
            ]
          },
          "metadata": {},
          "execution_count": 16
        }
      ]
    },
    {
      "cell_type": "code",
      "source": [
        "preds_train = model.predict(X_train).argmax(axis=1)\n",
        "preds_test = model.predict(X_test).argmax(axis=1)\n",
        "\n",
        "print(\"Accuracy train: %.3f\"%(np.mean(preds_train == Y_train)))\n",
        "print(\"Accuracy test:  %.3f\"%(np.mean(preds_test == Y_test)))"
      ],
      "metadata": {
        "colab": {
          "base_uri": "https://localhost:8080/"
        },
        "id": "OWm2Her6IHKo",
        "outputId": "d3b3ee4d-0a2e-4b58-8ccb-1e472ef99a97"
      },
      "execution_count": 17,
      "outputs": [
        {
          "output_type": "stream",
          "name": "stdout",
          "text": [
            "4/4 [==============================] - 0s 81ms/step\n",
            "1/1 [==============================] - 0s 79ms/step\n",
            "Accuracy train: 0.355\n",
            "Accuracy test:  0.455\n"
          ]
        }
      ]
    }
  ]
}